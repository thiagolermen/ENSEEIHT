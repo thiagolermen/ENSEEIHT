{
 "cells": [
  {
   "cell_type": "markdown",
   "metadata": {
    "id": "S07UYMEuKXlt"
   },
   "source": [
    "# TP 2-3 : Branch-and-bound applied to a knapsack problem"
   ]
  },
  {
   "cell_type": "markdown",
   "metadata": {
    "id": "Zh8k_o0JKXlx"
   },
   "source": [
    "## Questions préliminaires"
   ]
  },
  {
   "cell_type": "markdown",
   "metadata": {
    "id": "rC_qfS-qKXly"
   },
   "source": [
    "##### 1) Quelle est la règle de séparation ?\n",
    "La règle de séparation utilisée est la règle de critère lexicographique, c’est-à-dire que la séparation est effectuée sur le premier objet non encore fixé (dans le sens du parcours des listes définies dans readKnaptxtInstance."
   ]
  },
  {
   "cell_type": "markdown",
   "metadata": {
    "id": "OaDc-dgnKXl0"
   },
   "source": [
    "##### 2) Quelle est la méthode du calcul de la borne supérieure ?\n",
    "Il s'agit d'un calcul de l'optimum avec une relaxation linéaire au préalable (on remplit le sac avec les objets (éventuellement leurs fractions) avec les meilleurs ratios sans que la quantité de chacun dépasse 1 (contrainte d'unicité gardée)."
   ]
  },
  {
   "cell_type": "markdown",
   "metadata": {
    "id": "x6DN1GbiKXl3"
   },
   "source": [
    "##### 3) Quels sont les tests de sondabilité TA, TO, TR ?\n",
    "- TA : le test réussit si l'appel termination_status(model) renvoie MOI.INFEASIBLE, ce qui signifie que le problème n'a pas de solutions réalisables.\n",
    "- T0 : le test réussit si le calcul de la borne supérieure, relative à un noeud donné, avec objective_value(model) renvoie un valeur qui est inférieure à une valeur réalisable déjà connue (BestProfit dans le code).\n",
    "- TR : le test réussit si la solution optimale, relative à un noeud, est entière (et avec des coefficients tous inférieurs ou égaux à 1 a priori) ; dans le code, on cosidère que c'est le cas si la différence, en valeur absolue, entre les coefficients et leurs arrondis aux entiers les plus proches est inférieure ou égle à 10<sup>-5</sup>"
   ]
  },
  {
   "cell_type": "markdown",
   "metadata": {
    "id": "h9sjU9oUKXl4"
   },
   "source": [
    "##### 4) Quelle est la stratégie d'exploration ?\n",
    "La stratégie d’exploration utilisée est la recherche en profondeur en explorant d’abord les\n",
    "noeuds à gauche, suivis par les noeuds à droite. S’il n’y a pas de noeuds à droite remonte aux\n",
    "parents pour reprendre à droite."
   ]
  },
  {
   "cell_type": "markdown",
   "metadata": {
    "id": "k-KuhV2EKXl7"
   },
   "source": [
    "## Code et analyse"
   ]
  },
  {
   "cell_type": "markdown",
   "metadata": {
    "id": "GTv1KARBKXl8"
   },
   "source": [
    "### Initialisation (à faire une seule fois)"
   ]
  },
  {
   "cell_type": "code",
   "execution_count": 1,
   "metadata": {
    "id": "AfcKFdCOKXl9",
    "outputId": "1084ee98-9ebe-4e0f-aa3a-950bb31e9398",
    "scrolled": true
   },
   "outputs": [
    {
     "name": "stderr",
     "output_type": "stream",
     "text": [
      "\u001b[32m\u001b[1m    Updating\u001b[22m\u001b[39m registry at `~/.julia/registries/General.toml`\n",
      "\u001b[32m\u001b[1m   Resolving\u001b[22m\u001b[39m package versions...\n",
      "\u001b[32m\u001b[1m  No Changes\u001b[22m\u001b[39m to `~/.julia/environments/v1.8/Project.toml`\n",
      "\u001b[32m\u001b[1m  No Changes\u001b[22m\u001b[39m to `~/.julia/environments/v1.8/Manifest.toml`\n",
      "\u001b[32m\u001b[1m   Resolving\u001b[22m\u001b[39m package versions...\n",
      "\u001b[32m\u001b[1m  No Changes\u001b[22m\u001b[39m to `~/.julia/environments/v1.8/Project.toml`\n",
      "\u001b[32m\u001b[1m  No Changes\u001b[22m\u001b[39m to `~/.julia/environments/v1.8/Manifest.toml`\n"
     ]
    }
   ],
   "source": [
    "import Pkg; \n",
    "Pkg.add(\"GraphRecipes\"); Pkg.add(\"Plots\"); \n",
    "using GraphRecipes, Plots #only used to visualize the search tree at the end of the branch-and-bound"
   ]
  },
  {
   "cell_type": "markdown",
   "metadata": {
    "id": "dbLpbf15KXmA"
   },
   "source": [
    "### Récupération des données"
   ]
  },
  {
   "cell_type": "code",
   "execution_count": 2,
   "metadata": {
    "colab": {
     "base_uri": "https://localhost:8080/",
     "height": 133
    },
    "id": "6y2jBjXSKXmB",
    "outputId": "06d88cac-1df0-4291-c51b-5d689b71dc82"
   },
   "outputs": [
    {
     "data": {
      "text/plain": [
       "readKnaptxtInstance (generic function with 1 method)"
      ]
     },
     "execution_count": 2,
     "metadata": {},
     "output_type": "execute_result"
    }
   ],
   "source": [
    "function readKnaptxtInstance(filename)\n",
    "    price=[]\n",
    "    weight=[]\n",
    "    KnapCap=[]\n",
    "    open(filename) do f\n",
    "        for i in 1:3\n",
    "            tok = split(readline(f))\n",
    "            if(tok[1] == \"ListPrices=\")\n",
    "                for i in 2:(length(tok)-1)\n",
    "                    push!(price,parse(Int64, tok[i]))\n",
    "                end\n",
    "            elseif(tok[1] == \"ListWeights=\")\n",
    "                for i in 2:(length(tok)-1)\n",
    "                    push!(weight,parse(Int64, tok[i]))\n",
    "                end\n",
    "            elseif(tok[1] == \"Capacity=\")\n",
    "                push!(KnapCap, parse(Int64, tok[2]))\n",
    "            else\n",
    "                println(\"Unknown read :\", tok)\n",
    "            end \n",
    "        end\n",
    "    end\n",
    "    capacity=KnapCap[1]\n",
    "    return price, weight, capacity\n",
    "end"
   ]
  },
  {
   "cell_type": "markdown",
   "metadata": {
    "id": "_-HLIPOXKXmD"
   },
   "source": [
    "### Tests de sondabilités TA, TO et TR basés sur le modèle linéaire"
   ]
  },
  {
   "cell_type": "code",
   "execution_count": 250,
   "metadata": {
    "id": "Xyr39ZYLKXmE",
    "outputId": "53c99f7a-6522-4707-924b-5d26c026005b"
   },
   "outputs": [
    {
     "data": {
      "text/plain": [
       "TestsSondabilite_relaxation_lineaire (generic function with 1 method)"
      ]
     },
     "execution_count": 250,
     "metadata": {},
     "output_type": "execute_result"
    }
   ],
   "source": [
    "\n",
    "function TestsSondabilite_relaxation_lineaire(admissible, cost, solutions, BestProfit, Bestsol)\n",
    "    TA, TO, TR = false, false, false\n",
    "    if(!admissible)#Test de faisabilite\n",
    "        TA=true\n",
    "        println(\"TA\")\n",
    "    elseif(cost <= BestProfit) #Test d'optimalite\n",
    "        TO=true\n",
    "        println(\"TO\")\n",
    "    elseif( prod(abs.([round.(v, digits=0) for v in solutions]-solutions) .<= fill(10^-5, size(solutions)))) \n",
    "        #Test de resolution\n",
    "        TR=true\n",
    "        println(\"TR\")\n",
    "        #if (value(benef) >= BestProfit)\n",
    "        if (cost >= BestProfit)\n",
    "            Bestsol = deepcopy(solutions)\n",
    "            #BestProfit=value(benef)\n",
    "            BestProfit= cost\n",
    "            println(\"\\nNew Solution memorized \", Bestsol, \" with bestprofit \", BestProfit, \"\\n\")\n",
    "        end\n",
    "    else\n",
    "        println(\"non sondable\")\n",
    "    end\n",
    "    TA, TO, TR, Bestsol, BestProfit\n",
    "end"
   ]
  },
  {
   "cell_type": "markdown",
   "metadata": {
    "id": "9Db0MGnsQOoM"
   },
   "source": [
    "Fonction qui renvoie la différence de la première liste avec la deuxième liste"
   ]
  },
  {
   "cell_type": "code",
   "execution_count": 251,
   "metadata": {
    "id": "QqoIv15lQfH2"
   },
   "outputs": [
    {
     "data": {
      "text/plain": [
       "diffListes (generic function with 1 method)"
      ]
     },
     "execution_count": 251,
     "metadata": {},
     "output_type": "execute_result"
    }
   ],
   "source": [
    "function diffListes(l1, l2)\n",
    "  return sort([l1[i] for i in l1 if !(l1[i] in l2)])\n",
    "end"
   ]
  },
  {
   "cell_type": "markdown",
   "metadata": {
    "id": "Vrg95O0jKXmF"
   },
   "source": [
    "### Procédure de séparation (branching) et stratégie d'exploration permettant de se placer au prochain noeud à traiter"
   ]
  },
  {
   "cell_type": "code",
   "execution_count": 271,
   "metadata": {
    "id": "Q1zTDUpUKXmF",
    "outputId": "a258de83-d4f0-4893-bf28-6f224079b11e"
   },
   "outputs": [
    {
     "data": {
      "text/plain": [
       "ExplorerAutreNoeud_relaxation_lineaire (generic function with 4 methods)"
      ]
     },
     "execution_count": 271,
     "metadata": {},
     "output_type": "execute_result"
    }
   ],
   "source": [
    "\n",
    "function SeparerNoeud_relaxation_lineaire(current_price, current_weight, current_capacity, solution_sup_bound, listobjs, listvals, price)\n",
    "    # This node is non-sondable. Apply the branching criterion to separate it into two subnodes\n",
    "    # and choose the child-node at the left.\n",
    "    # The separation criteria is to chose the object with the best ratio (among the objects that have not yet been fixed)\n",
    "    \n",
    "    listobjs_free = diffListes([i for i=1:length(solution_sup_bound)], listobjs)\n",
    "\n",
    "    ratios = current_price ./ current_weight\n",
    "\n",
    "    index_max_ratio = findmax(ratios)[2]\n",
    "\n",
    "    obj = listobjs_free[index_max_ratio]\n",
    "\n",
    "    # depthfirst exploration strategy: the node selected will be the most left of the child-nodes just created\n",
    "    push!(listobjs,obj) #save the identity of the object selected for branching\n",
    "    push!(listvals,1.0) #save the node selected, identified by the value assigned to the variable/object chosen\n",
    "    \n",
    "    new_capacity = current_capacity - current_weight[index_max_ratio]\n",
    "    # new_cost = cost + current_price[index_max_ratio]         si on passe en paramètre cost\n",
    "    cost = sum([price[listobjs[i]] * listvals[i] for i=1:length(listobjs)])\n",
    "\n",
    "    deleteat!(current_price, index_max_ratio)\n",
    "    deleteat!(current_weight, index_max_ratio)\n",
    "\n",
    "    # return new_capacity, new_cost si on passe en paramètre cost\n",
    "    return new_capacity, cost, index_max_ratio\n",
    "end\n",
    "\n",
    "\n",
    "function ExplorerAutreNoeud_relaxation_lineaire(current_capacity, fixed_cost, weight, price, listobjs, listvals, listnodes)\n",
    "    #this node is sondable, go back to parent node then right child if possible\n",
    "    \n",
    "    stop=false\n",
    "    #check if we are not at the root node\n",
    "    if (length(listobjs)>= 1)\n",
    "        #go back to parent node\n",
    "        obj=pop!(listobjs)\n",
    "        theval=pop!(listvals)\n",
    "        tmp=pop!(listnodes)\n",
    "        \n",
    "        new_capacity = current_capacity + theval*weight[obj]\n",
    "        new_fixed_cost = fixed_cost - theval*price[obj]\n",
    "\n",
    "        #go to right child if possible, otherwise go back to parent\n",
    "        while( (theval==0.0) && (length(listobjs)>= 1))\n",
    "            obj=pop!(listobjs)\n",
    "            theval=pop!(listvals)\n",
    "            tmp=pop!(listnodes)\n",
    "            \n",
    "        end\n",
    "        if theval==1.0\n",
    "            push!(listobjs,obj)\n",
    "            push!(listvals,0.0)       \n",
    "        else\n",
    "            println(\"\\nFINISHED\")\n",
    "            stop=true\n",
    "        end\n",
    "    else\n",
    "        #the root node was sondable\n",
    "        println(\"\\nFINISHED\")\n",
    "        stop=true\n",
    "    end\n",
    "    return stop, new_capacity, new_fixed_cost\n",
    "end"
   ]
  },
  {
   "cell_type": "markdown",
   "metadata": {
    "id": "pzEnwJpLKXmG"
   },
   "source": [
    "###  Création de la relaxation linéaire (= modèle associé au noeud 0): <span style=\"color:red\"> SECTION A SUPPRIMER !!!! </span>\n",
    "\n",
    "<span style=\"color:red\"> Cette section est à commenter/supprimer et remplacer par vos propres calculs de bornes supérieures et autres, par exemple basées sur les bornes 1 et 2 vues en cours, ou d'autres calculs de bornes de votre choix/conception validés au préalable par votre encadrant/e de TP </span>"
   ]
  },
  {
   "cell_type": "code",
   "execution_count": 272,
   "metadata": {
    "id": "2CDb-8ICKXmH"
   },
   "outputs": [
    {
     "data": {
      "text/plain": [
       "optimizer (generic function with 2 methods)"
      ]
     },
     "execution_count": 272,
     "metadata": {},
     "output_type": "execute_result"
    }
   ],
   "source": [
    "# Input: current_price, current_weight and current_capacity (based on the node)\n",
    "# Output: admissible (true if admissible), cost, solution\n",
    "# TODO\n",
    "function optimizer(borne, current_price, current_weight, current_capacity, n, listobjs, listvals)\n",
    "    \n",
    "    listobjs_free = diffListes([i for i=1:n], listobjs)\n",
    "    stop = false\n",
    "    ratio = current_price ./ current_weight # to use in the boundary\n",
    "    indices_ratio = sortperm(ratio, rev = true)\n",
    "    \n",
    "    solutions = zeros(n)\n",
    "    for i=1:n\n",
    "        if i in listobjs\n",
    "            ind = findfirst(x->x==i, listobjs)\n",
    "            if listvals[ind] == 1.0\n",
    "                solutions[i] = 1.0\n",
    "            end \n",
    "        end\n",
    "    end\n",
    "    \n",
    "    cost = 0\n",
    "    \n",
    "    if current_price != []\n",
    "\n",
    "        if borne == 1\n",
    "            ind_best_ratio = indices_ratio[1]\n",
    "            solutions[listobjs_free[ind_best_ratio]] = current_capacity / current_weight[ind_best_ratio]\n",
    "            cost = cost + solutions[ind_best_ratio] * current_price[ind_best_ratio]\n",
    "        else\n",
    "            i = 1\n",
    "            j = current_capacity\n",
    "\n",
    "            while(!stop)\n",
    "                indice = indices_ratio[i]\n",
    "                if (current_weight[indice] <= j)\n",
    "                    solutions[listobjs_free[indice]] = 1\n",
    "                    cost = cost + current_price[indice]\n",
    "                    j = j - current_weight[indice]\n",
    "                    i = i + 1\n",
    "                else\n",
    "                    solutions[listobjs_free[indice]] = j / current_weight[indice]\n",
    "                    cost = cost + solutions[indice] * current_price[indice]\n",
    "                    j = 0\n",
    "                    stop = true\n",
    "                end\n",
    "                if (i > length(current_price))\n",
    "                    stop = true\n",
    "                end\n",
    "            end\n",
    "        end\n",
    "    end\n",
    "    return cost, solutions\n",
    "end\n",
    "\n",
    "    "
   ]
  },
  {
   "cell_type": "markdown",
   "metadata": {
    "id": "R1qg5VPzKXmI"
   },
   "source": [
    "### Boucle principale : résoudre une relaxation, appliquer les tests de sondabilité, identifier le prochain noeud, répéter."
   ]
  },
  {
   "cell_type": "code",
   "execution_count": 273,
   "metadata": {
    "id": "DausKbNzKXmI",
    "outputId": "dae7be36-fdd9-45c1-990a-d24cca02640d"
   },
   "outputs": [
    {
     "data": {
      "text/plain": [
       "SolveKnapInstance (generic function with 1 method)"
      ]
     },
     "execution_count": 273,
     "metadata": {},
     "output_type": "execute_result"
    }
   ],
   "source": [
    "\n",
    "function SolveKnapInstance(filename)\n",
    "\n",
    "    price, weight, capacity = readKnaptxtInstance(filename)\n",
    "\n",
    "    #model2,x,varsshouldbebinary = CreationModeleLP(price, weight, capacity)\n",
    "\n",
    "    #create the structure to memorize the search tree for visualization at the end\n",
    "    trParentnodes = Int64[] #will store orig node of arc in search tree\n",
    "    trChildnodes = Int64[] #will store destination node of arc in search tree\n",
    "    trNamenodes = [] #will store names of nodes in search tree\n",
    "\n",
    "    #intermediate structure to navigate in the search tree\n",
    "    listobjs = [] # list of fixed coefficients\n",
    "    listvals = [] # list of fixed coeffieicient values \n",
    "    listnodes = [] # list of node numbers\n",
    "\n",
    "    BestProfit = -1 # objective function value evaluated based on the best realizable solution\n",
    "    Bestsol = [] # best realizable solution\n",
    "    \n",
    "    current_price = [i for i in price] # list of unfixed coefficient prices\n",
    "    current_weight = [i for i in weight] # list of unfixed coefficient weights\n",
    "    current_capacity = capacity # remaining capacity\n",
    "\n",
    "    current_node_number = 0\n",
    "    stop = false\n",
    "\n",
    "    fixed_cost = 0.0\n",
    "    cost = fixed_cost\n",
    "    \n",
    "    borne = 1\n",
    "    n = length(price)\n",
    "    solution = []\n",
    "    \n",
    "    index_separation = 0\n",
    "    while(!stop)\n",
    "\n",
    "        println(\"\\nNode number \", current_node_number, \": \\n---------------\\n\")\n",
    "\n",
    "        #Update the graphical tree\n",
    "        push!(trNamenodes,current_node_number+1) \n",
    "        if(length(trNamenodes) >= 2)\n",
    "            push!(trParentnodes,listnodes[end] + 1) # +1 because the 1st node is \"node 0\"\n",
    "            push!(trChildnodes, current_node_number + 1) # +1 because the 1st node is \"node 0\"\n",
    "        end\n",
    "        push!(listnodes, current_node_number)\n",
    "        \n",
    "        print(\"Solve the LP model of the current node to compute its bound: start ... \")\n",
    "        \n",
    "        # Call the optimize function\n",
    "        admissible = current_capacity >= 0\n",
    "        if admissible\n",
    "            borne_sup_cost, solution = optimizer(borne, current_price, current_weight, current_capacity, n, listobjs, listvals)\n",
    "            cost = borne_sup_cost + fixed_cost\n",
    "            println(\"Cost = \", cost)\n",
    "            #AfficageSolutions(solution)\n",
    "        else\n",
    "            print(\" : NOT AVAILABLE (probably infeasible or ressources limit reached)\")\n",
    "        end\n",
    "        println(\" \"); \n",
    "\n",
    "        println(\"... end\"); \n",
    "\n",
    "        println(\"\\nPrevious Solution memorized \", Bestsol, \" with bestprofit \", BestProfit, \"\\n\")\n",
    "        \n",
    "        TA, TO, TR, Bestsol, BestProfit = TestsSondabilite_relaxation_lineaire(admissible, cost, solution, BestProfit, Bestsol)\n",
    "        is_node_sondable = TA || TO || TR\n",
    "\n",
    "        if !is_node_sondable\n",
    "            current_capacity, fixed_cost, index_separation = SeparerNoeud_relaxation_lineaire(current_price, current_weight, current_capacity, solution, listobjs, listvals, price)\n",
    "        else\n",
    "            stop, current_capacity, fixed_cost = ExplorerAutreNoeud_relaxation_lineaire(current_capacity, fixed_cost, weight, price, listobjs, listvals, listnodes)\n",
    "        end\n",
    "\n",
    "        current_node_number = current_node_number + 1\n",
    "    end\n",
    "\n",
    "    println(\"\\n******\\n\\nOptimal value = \", BestProfit, \"\\n\\nOptimal x=\", Bestsol)\n",
    "\n",
    "    return BestProfit, Bestsol, trParentnodes, trChildnodes, trNamenodes\n",
    "\n",
    "end\n"
   ]
  },
  {
   "cell_type": "markdown",
   "metadata": {
    "id": "5mOshNaMKXmJ"
   },
   "source": [
    "### Affichage du résultat final"
   ]
  },
  {
   "cell_type": "code",
   "execution_count": 275,
   "metadata": {
    "id": "delwUlogKXmK",
    "outputId": "47e82dc3-c7e1-4ef9-fc3e-fcfc83c44769",
    "scrolled": false
   },
   "outputs": [
    {
     "name": "stdout",
     "output_type": "stream",
     "text": [
      "\n",
      "Node number 0: \n",
      "---------------\n",
      "\n",
      "Solve the LP model of the current node to compute its bound: start ... Cost = 100.0\n",
      " \n",
      "... end\n",
      "\n",
      "Previous Solution memorized Any[] with bestprofit -1\n",
      "\n",
      "non sondable\n",
      "\n",
      "Node number 1: \n",
      "---------------\n",
      "\n",
      "Solve the LP model of the current node to compute its bound: start ... Cost = 76.0\n",
      " \n",
      "... end\n",
      "\n",
      "Previous Solution memorized Any[] with bestprofit -1\n",
      "\n",
      "non sondable\n",
      "\n",
      "Node number 2: \n",
      "---------------\n",
      "\n",
      "Solve the LP model of the current node to compute its bound: start ...  : NOT AVAILABLE (probably infeasible or ressources limit reached) \n",
      "... end\n",
      "\n",
      "Previous Solution memorized Any[] with bestprofit -1\n",
      "\n",
      "TA\n",
      "\n",
      "Node number 3: \n",
      "---------------\n",
      "\n",
      "Solve the LP model of the current node to compute its bound: start ... Cost = 65.0\n",
      " \n",
      "... end\n",
      "\n",
      "Previous Solution memorized Any[] with bestprofit -1\n",
      "\n",
      "non sondable\n",
      "\n",
      "Node number 4: \n",
      "---------------\n",
      "\n",
      "Solve the LP model of the current node to compute its bound: start ... Cost = 65.0\n",
      " \n",
      "... end\n",
      "\n",
      "Previous Solution memorized Any[] with bestprofit -1\n",
      "\n",
      "non sondable\n",
      "\n",
      "Node number 5: \n",
      "---------------\n",
      "\n",
      "Solve the LP model of the current node to compute its bound: start ...  : NOT AVAILABLE (probably infeasible or ressources limit reached) \n",
      "... end\n",
      "\n",
      "Previous Solution memorized Any[] with bestprofit -1\n",
      "\n",
      "TA\n",
      "\n",
      "Node number 6: \n",
      "---------------\n",
      "\n",
      "Solve the LP model of the current node to compute its bound: start ... Cost = 65.0\n",
      " \n",
      "... end\n",
      "\n",
      "Previous Solution memorized Any[] with bestprofit -1\n",
      "\n",
      "TR\n",
      "\n",
      "New Solution memorized [0.0, 1.0, 0.0, 1.0] with bestprofit 65.0\n",
      "\n",
      "\n",
      "Node number 7: \n",
      "---------------\n",
      "\n",
      "Solve the LP model of the current node to compute its bound: start ... Cost = 65.0\n",
      " \n",
      "... end\n",
      "\n",
      "Previous Solution memorized [0.0, 1.0, 0.0, 1.0] with bestprofit 65.0\n",
      "\n",
      "TO\n",
      "\n",
      "Node number 8: \n",
      "---------------\n",
      "\n",
      "Solve the LP model of the current node to compute its bound: start ... Cost = 65.0\n",
      " \n",
      "... end\n",
      "\n",
      "Previous Solution memorized [0.0, 1.0, 0.0, 1.0] with bestprofit 65.0\n",
      "\n",
      "TO\n",
      "\n",
      "FINISHED\n",
      "\n",
      "******\n",
      "\n",
      "Optimal value = 65.0\n",
      "\n",
      "Optimal x=[0.0, 1.0, 0.0, 1.0]\n",
      "\n",
      "******\n",
      "\n",
      "Optimal value = 65.0\n",
      "\n",
      "Optimal x=[0.0, 1.0, 0.0, 1.0]\n"
     ]
    },
    {
     "data": {
      "image/svg+xml": [
       "<?xml version=\"1.0\" encoding=\"utf-8\"?>\n",
       "<svg xmlns=\"http://www.w3.org/2000/svg\" xmlns:xlink=\"http://www.w3.org/1999/xlink\" width=\"600\" height=\"400\" viewBox=\"0 0 2400 1600\">\n",
       "<defs>\n",
       "  <clipPath id=\"clip110\">\n",
       "    <rect x=\"0\" y=\"0\" width=\"2400\" height=\"1600\"/>\n",
       "  </clipPath>\n",
       "</defs>\n",
       "<path clip-path=\"url(#clip110)\" d=\"\n",
       "M0 1600 L2400 1600 L2400 0 L0 0  Z\n",
       "  \" fill=\"#ffffff\" fill-rule=\"evenodd\" fill-opacity=\"1\"/>\n",
       "<defs>\n",
       "  <clipPath id=\"clip111\">\n",
       "    <rect x=\"480\" y=\"0\" width=\"1681\" height=\"1600\"/>\n",
       "  </clipPath>\n",
       "</defs>\n",
       "<path clip-path=\"url(#clip110)\" d=\"\n",
       "M447.244 1552.76 L1952.76 1552.76 L1952.76 47.2441 L447.244 47.2441  Z\n",
       "  \" fill=\"#ffffff\" fill-rule=\"evenodd\" fill-opacity=\"1\"/>\n",
       "<defs>\n",
       "  <clipPath id=\"clip112\">\n",
       "    <rect x=\"447\" y=\"47\" width=\"1507\" height=\"1507\"/>\n",
       "  </clipPath>\n",
       "</defs>\n",
       "<polyline clip-path=\"url(#clip112)\" style=\"stroke:#000000; stroke-linecap:round; stroke-linejoin:round; stroke-width:4; stroke-opacity:1; fill:none\" points=\"\n",
       "  996.356,262.317 996.89,274.508 998.44,286.752 1000.93,299.046 1004.29,311.386 1008.44,323.767 1013.3,336.186 1018.81,348.639 1024.88,361.121 1031.43,373.629 \n",
       "  1038.41,386.159 1045.72,398.707 1053.29,411.269 1061.06,423.84 1068.93,436.418 1076.85,448.997 1084.73,461.575 1092.49,474.147 1100.06,486.708 1107.38,499.256 \n",
       "  1114.35,511.786 1120.91,524.294 1126.98,536.777 1132.48,549.229 1137.35,561.648 1141.49,574.029 1144.85,586.369 1147.34,598.663 1148.89,610.907 1149.43,623.098 \n",
       "  \n",
       "  \"/>\n",
       "<polyline clip-path=\"url(#clip112)\" style=\"stroke:#000000; stroke-linecap:round; stroke-linejoin:round; stroke-width:4; stroke-opacity:1; fill:none\" points=\"\n",
       "  1149.43,623.098 1148.39,634.537 1145.39,645.282 1140.55,655.383 1134.04,664.893 1125.99,673.862 1116.56,682.342 1105.88,690.386 1094.11,698.043 1081.39,705.366 \n",
       "  1067.87,712.405 1053.69,719.214 1038.99,725.842 1023.94,732.341 1008.66,738.764 993.309,745.16 978.031,751.583 962.973,758.082 948.281,764.71 934.099,771.518 \n",
       "  920.575,778.558 907.854,785.881 896.083,793.538 885.407,801.581 875.973,810.062 867.927,819.031 861.414,828.541 856.581,838.642 853.575,849.386 852.54,860.826 \n",
       "  \n",
       "  \"/>\n",
       "<polyline clip-path=\"url(#clip112)\" style=\"stroke:#000000; stroke-linecap:round; stroke-linejoin:round; stroke-width:4; stroke-opacity:1; fill:none\" points=\"\n",
       "  1149.43,623.098 1150.49,632.575 1153.57,641.423 1158.52,649.687 1165.19,657.415 1173.43,664.653 1183.09,671.448 1194.02,677.847 1206.08,683.895 1219.11,689.641 \n",
       "  1232.96,695.13 1247.48,700.408 1262.53,705.524 1277.95,710.523 1293.6,715.452 1309.32,720.358 1324.96,725.287 1340.38,730.286 1355.43,735.402 1369.96,740.681 \n",
       "  1383.81,746.17 1396.83,751.915 1408.89,757.964 1419.82,764.362 1429.49,771.157 1437.73,778.395 1444.4,786.123 1449.35,794.387 1452.42,803.235 1453.48,812.712 \n",
       "  \n",
       "  \"/>\n",
       "<polyline clip-path=\"url(#clip112)\" style=\"stroke:#000000; stroke-linecap:round; stroke-linejoin:round; stroke-width:4; stroke-opacity:1; fill:none\" points=\"\n",
       "  1453.48,812.712 1453,822.402 1451.59,832.082 1449.32,841.751 1446.26,851.412 1442.48,861.065 1438.05,870.71 1433.04,880.349 1427.51,889.981 1421.54,899.609 \n",
       "  1415.19,909.232 1408.53,918.852 1401.63,928.469 1394.56,938.084 1387.38,947.698 1380.17,957.311 1373,966.925 1365.93,976.54 1359.03,986.157 1352.37,995.777 \n",
       "  1346.02,1005.4 1340.05,1015.03 1334.52,1024.66 1329.51,1034.3 1325.08,1043.94 1321.3,1053.6 1318.24,1063.26 1315.97,1072.93 1314.56,1082.61 1314.07,1092.3 \n",
       "  \n",
       "  \"/>\n",
       "<polyline clip-path=\"url(#clip112)\" style=\"stroke:#000000; stroke-linecap:round; stroke-linejoin:round; stroke-width:4; stroke-opacity:1; fill:none\" points=\"\n",
       "  1314.07,1092.3 1313.02,1100.87 1309.97,1108.88 1305.05,1116.36 1298.43,1123.35 1290.25,1129.9 1280.67,1136.05 1269.81,1141.84 1257.85,1147.31 1244.92,1152.51 \n",
       "  1231.17,1157.48 1216.76,1162.26 1201.82,1166.88 1186.52,1171.41 1170.99,1175.87 1155.39,1180.31 1139.86,1184.77 1124.55,1189.29 1109.62,1193.92 1095.2,1198.7 \n",
       "  1081.46,1203.66 1068.53,1208.86 1056.56,1214.34 1045.71,1220.13 1036.12,1226.28 1027.94,1232.83 1021.32,1239.82 1016.41,1247.3 1013.35,1255.3 1012.3,1263.88 \n",
       "  \n",
       "  \"/>\n",
       "<polyline clip-path=\"url(#clip112)\" style=\"stroke:#000000; stroke-linecap:round; stroke-linejoin:round; stroke-width:4; stroke-opacity:1; fill:none\" points=\"\n",
       "  1314.07,1092.3 1314.74,1101.82 1316.66,1111.11 1319.76,1120.19 1323.94,1129.08 1329.1,1137.79 1335.14,1146.35 1341.99,1154.76 1349.53,1163.04 1357.69,1171.22 \n",
       "  1366.36,1179.3 1375.45,1187.31 1384.87,1195.26 1394.52,1203.17 1404.32,1211.05 1414.16,1218.93 1423.95,1226.81 1433.6,1234.72 1443.02,1242.67 1452.11,1250.68 \n",
       "  1460.78,1258.76 1468.94,1266.94 1476.48,1275.22 1483.33,1283.63 1489.38,1292.19 1494.53,1300.9 1498.71,1309.79 1501.81,1318.87 1503.74,1328.16 1504.4,1337.68 \n",
       "  \n",
       "  \"/>\n",
       "<polyline clip-path=\"url(#clip112)\" style=\"stroke:#000000; stroke-linecap:round; stroke-linejoin:round; stroke-width:4; stroke-opacity:1; fill:none\" points=\"\n",
       "  1453.48,812.712 1454.48,824.69 1457.35,836.128 1461.98,847.068 1468.21,857.548 1475.92,867.61 1484.95,877.292 1495.17,886.634 1506.43,895.677 1518.61,904.461 \n",
       "  1531.56,913.025 1545.13,921.41 1559.2,929.655 1573.61,937.8 1588.24,945.885 1602.93,953.95 1617.55,962.035 1631.97,970.18 1646.03,978.425 1659.61,986.809 \n",
       "  1672.56,995.373 1684.73,1004.16 1696,1013.2 1706.22,1022.54 1715.25,1032.22 1722.95,1042.29 1729.19,1052.77 1733.81,1063.71 1736.69,1075.14 1737.68,1087.12 \n",
       "  \n",
       "  \"/>\n",
       "<polyline clip-path=\"url(#clip112)\" style=\"stroke:#000000; stroke-linecap:round; stroke-linejoin:round; stroke-width:4; stroke-opacity:1; fill:none\" points=\"\n",
       "  996.356,262.317 995.192,275.021 991.809,286.919 986.372,298.072 979.044,308.538 969.991,318.379 959.376,327.653 947.365,336.42 934.12,344.739 919.808,352.671 \n",
       "  904.591,360.275 888.635,367.61 872.103,374.737 855.161,381.714 837.972,388.603 820.701,395.461 803.512,402.349 786.57,409.326 770.039,416.453 754.082,423.788 \n",
       "  738.866,431.392 724.553,439.324 711.309,447.644 699.297,456.41 688.683,465.684 679.629,475.525 672.302,485.992 666.864,497.144 663.481,509.043 662.317,521.746 \n",
       "  \n",
       "  \"/>\n",
       "<path clip-path=\"url(#clip112)\" d=\"\n",
       "M1015.43 262.317 L1005.89 245.802 L986.821 245.802 L977.286 262.317 L986.821 278.832 L1005.89 278.832 L1015.43 262.317 L1015.43 262.317  Z\n",
       "  \" fill=\"#009af9\" fill-rule=\"evenodd\" fill-opacity=\"1\"/>\n",
       "<polyline clip-path=\"url(#clip112)\" style=\"stroke:#000000; stroke-linecap:round; stroke-linejoin:round; stroke-width:4; stroke-opacity:1; fill:none\" points=\"\n",
       "  1015.43,262.317 1005.89,245.802 986.821,245.802 977.286,262.317 986.821,278.832 1005.89,278.832 1015.43,262.317 \n",
       "  \"/>\n",
       "<path clip-path=\"url(#clip112)\" d=\"\n",
       "M1168.5 623.098 L1158.96 606.583 L1139.89 606.583 L1130.36 623.098 L1139.89 639.613 L1158.96 639.613 L1168.5 623.098 L1168.5 623.098  Z\n",
       "  \" fill=\"#009af9\" fill-rule=\"evenodd\" fill-opacity=\"1\"/>\n",
       "<polyline clip-path=\"url(#clip112)\" style=\"stroke:#000000; stroke-linecap:round; stroke-linejoin:round; stroke-width:4; stroke-opacity:1; fill:none\" points=\"\n",
       "  1168.5,623.098 1158.96,606.583 1139.89,606.583 1130.36,623.098 1139.89,639.613 1158.96,639.613 1168.5,623.098 \n",
       "  \"/>\n",
       "<path clip-path=\"url(#clip112)\" d=\"\n",
       "M871.61 860.826 L862.075 844.311 L843.005 844.311 L833.47 860.826 L843.005 877.341 L862.075 877.341 L871.61 860.826 L871.61 860.826  Z\n",
       "  \" fill=\"#009af9\" fill-rule=\"evenodd\" fill-opacity=\"1\"/>\n",
       "<polyline clip-path=\"url(#clip112)\" style=\"stroke:#000000; stroke-linecap:round; stroke-linejoin:round; stroke-width:4; stroke-opacity:1; fill:none\" points=\"\n",
       "  871.61,860.826 862.075,844.311 843.005,844.311 833.47,860.826 843.005,877.341 862.075,877.341 871.61,860.826 \n",
       "  \"/>\n",
       "<path clip-path=\"url(#clip112)\" d=\"\n",
       "M1472.55 812.712 L1463.02 796.197 L1443.95 796.197 L1434.41 812.712 L1443.95 829.227 L1463.02 829.227 L1472.55 812.712 L1472.55 812.712  Z\n",
       "  \" fill=\"#009af9\" fill-rule=\"evenodd\" fill-opacity=\"1\"/>\n",
       "<polyline clip-path=\"url(#clip112)\" style=\"stroke:#000000; stroke-linecap:round; stroke-linejoin:round; stroke-width:4; stroke-opacity:1; fill:none\" points=\"\n",
       "  1472.55,812.712 1463.02,796.197 1443.95,796.197 1434.41,812.712 1443.95,829.227 1463.02,829.227 1472.55,812.712 \n",
       "  \"/>\n",
       "<path clip-path=\"url(#clip112)\" d=\"\n",
       "M1333.14 1092.3 L1323.61 1075.78 L1304.54 1075.78 L1295 1092.3 L1304.54 1108.81 L1323.61 1108.81 L1333.14 1092.3 L1333.14 1092.3  Z\n",
       "  \" fill=\"#009af9\" fill-rule=\"evenodd\" fill-opacity=\"1\"/>\n",
       "<polyline clip-path=\"url(#clip112)\" style=\"stroke:#000000; stroke-linecap:round; stroke-linejoin:round; stroke-width:4; stroke-opacity:1; fill:none\" points=\"\n",
       "  1333.14,1092.3 1323.61,1075.78 1304.54,1075.78 1295,1092.3 1304.54,1108.81 1323.61,1108.81 1333.14,1092.3 \n",
       "  \"/>\n",
       "<path clip-path=\"url(#clip112)\" d=\"\n",
       "M1031.37 1263.88 L1021.84 1247.36 L1002.77 1247.36 L993.233 1263.88 L1002.77 1280.39 L1021.84 1280.39 L1031.37 1263.88 L1031.37 1263.88  Z\n",
       "  \" fill=\"#009af9\" fill-rule=\"evenodd\" fill-opacity=\"1\"/>\n",
       "<polyline clip-path=\"url(#clip112)\" style=\"stroke:#000000; stroke-linecap:round; stroke-linejoin:round; stroke-width:4; stroke-opacity:1; fill:none\" points=\"\n",
       "  1031.37,1263.88 1021.84,1247.36 1002.77,1247.36 993.233,1263.88 1002.77,1280.39 1021.84,1280.39 1031.37,1263.88 \n",
       "  \"/>\n",
       "<path clip-path=\"url(#clip112)\" d=\"\n",
       "M1523.47 1337.68 L1513.93 1321.17 L1494.86 1321.17 L1485.33 1337.68 L1494.86 1354.2 L1513.93 1354.2 L1523.47 1337.68 L1523.47 1337.68  Z\n",
       "  \" fill=\"#009af9\" fill-rule=\"evenodd\" fill-opacity=\"1\"/>\n",
       "<polyline clip-path=\"url(#clip112)\" style=\"stroke:#000000; stroke-linecap:round; stroke-linejoin:round; stroke-width:4; stroke-opacity:1; fill:none\" points=\"\n",
       "  1523.47,1337.68 1513.93,1321.17 1494.86,1321.17 1485.33,1337.68 1494.86,1354.2 1513.93,1354.2 1523.47,1337.68 \n",
       "  \"/>\n",
       "<path clip-path=\"url(#clip112)\" d=\"\n",
       "M1756.75 1087.12 L1747.22 1070.61 L1728.15 1070.61 L1718.61 1087.12 L1728.15 1103.64 L1747.22 1103.64 L1756.75 1087.12 L1756.75 1087.12  Z\n",
       "  \" fill=\"#009af9\" fill-rule=\"evenodd\" fill-opacity=\"1\"/>\n",
       "<polyline clip-path=\"url(#clip112)\" style=\"stroke:#000000; stroke-linecap:round; stroke-linejoin:round; stroke-width:4; stroke-opacity:1; fill:none\" points=\"\n",
       "  1756.75,1087.12 1747.22,1070.61 1728.15,1070.61 1718.61,1087.12 1728.15,1103.64 1747.22,1103.64 1756.75,1087.12 \n",
       "  \"/>\n",
       "<path clip-path=\"url(#clip112)\" d=\"\n",
       "M681.387 521.746 L671.852 505.231 L652.782 505.231 L643.247 521.746 L652.782 538.261 L671.852 538.261 L681.387 521.746 L681.387 521.746  Z\n",
       "  \" fill=\"#009af9\" fill-rule=\"evenodd\" fill-opacity=\"1\"/>\n",
       "<polyline clip-path=\"url(#clip112)\" style=\"stroke:#000000; stroke-linecap:round; stroke-linejoin:round; stroke-width:4; stroke-opacity:1; fill:none\" points=\"\n",
       "  681.387,521.746 671.852,505.231 652.782,505.231 643.247,521.746 652.782,538.261 671.852,538.261 681.387,521.746 \n",
       "  \"/>\n",
       "<path clip-path=\"url(#clip112)\" d=\"M996.356 262.717 L996.01 262.517 L996.01 262.117 L996.356 261.917 L996.703 262.117 L996.703 262.517 Z\" fill=\"#009af9\" fill-rule=\"evenodd\" fill-opacity=\"1\" stroke=\"#000000\" stroke-opacity=\"1\" stroke-width=\"3.2\"/>\n",
       "<path clip-path=\"url(#clip112)\" d=\"M1149.43 623.498 L1149.08 623.298 L1149.08 622.898 L1149.43 622.698 L1149.77 622.898 L1149.77 623.298 Z\" fill=\"#009af9\" fill-rule=\"evenodd\" fill-opacity=\"1\" stroke=\"#000000\" stroke-opacity=\"1\" stroke-width=\"3.2\"/>\n",
       "<path clip-path=\"url(#clip112)\" d=\"M852.54 861.226 L852.193 861.026 L852.193 860.626 L852.54 860.426 L852.886 860.626 L852.886 861.026 Z\" fill=\"#009af9\" fill-rule=\"evenodd\" fill-opacity=\"1\" stroke=\"#000000\" stroke-opacity=\"1\" stroke-width=\"3.2\"/>\n",
       "<path clip-path=\"url(#clip112)\" d=\"M1453.48 813.112 L1453.14 812.912 L1453.14 812.512 L1453.48 812.312 L1453.83 812.512 L1453.83 812.912 Z\" fill=\"#009af9\" fill-rule=\"evenodd\" fill-opacity=\"1\" stroke=\"#000000\" stroke-opacity=\"1\" stroke-width=\"3.2\"/>\n",
       "<path clip-path=\"url(#clip112)\" d=\"M1314.07 1092.7 L1313.73 1092.5 L1313.73 1092.1 L1314.07 1091.9 L1314.42 1092.1 L1314.42 1092.5 Z\" fill=\"#009af9\" fill-rule=\"evenodd\" fill-opacity=\"1\" stroke=\"#000000\" stroke-opacity=\"1\" stroke-width=\"3.2\"/>\n",
       "<path clip-path=\"url(#clip112)\" d=\"M1012.3 1264.28 L1011.96 1264.08 L1011.96 1263.68 L1012.3 1263.48 L1012.65 1263.68 L1012.65 1264.08 Z\" fill=\"#009af9\" fill-rule=\"evenodd\" fill-opacity=\"1\" stroke=\"#000000\" stroke-opacity=\"1\" stroke-width=\"3.2\"/>\n",
       "<path clip-path=\"url(#clip112)\" d=\"M1504.4 1338.08 L1504.05 1337.88 L1504.05 1337.48 L1504.4 1337.28 L1504.75 1337.48 L1504.75 1337.88 Z\" fill=\"#009af9\" fill-rule=\"evenodd\" fill-opacity=\"1\" stroke=\"#000000\" stroke-opacity=\"1\" stroke-width=\"3.2\"/>\n",
       "<path clip-path=\"url(#clip112)\" d=\"M1737.68 1087.52 L1737.34 1087.32 L1737.34 1086.92 L1737.68 1086.72 L1738.03 1086.92 L1738.03 1087.32 Z\" fill=\"#009af9\" fill-rule=\"evenodd\" fill-opacity=\"1\" stroke=\"#000000\" stroke-opacity=\"1\" stroke-width=\"3.2\"/>\n",
       "<path clip-path=\"url(#clip112)\" d=\"M662.317 522.146 L661.971 521.946 L661.971 521.546 L662.317 521.346 L662.664 521.546 L662.664 521.946 Z\" fill=\"#009af9\" fill-rule=\"evenodd\" fill-opacity=\"1\" stroke=\"#000000\" stroke-opacity=\"1\" stroke-width=\"3.2\"/>\n",
       "<path clip-path=\"url(#clip110)\" d=\"M987.941 273.994 L994.625 273.994 L994.625 250.924 L987.353 252.382 L987.353 248.656 L994.584 247.197 L998.675 247.197 L998.675 273.994 L1005.36 273.994 L1005.36 277.437 L987.941 277.437 L987.941 273.994 Z\" fill=\"#000000\" fill-rule=\"evenodd\" fill-opacity=\"1\" /><path clip-path=\"url(#clip110)\" d=\"M1144.75 634.775 L1159.03 634.775 L1159.03 638.218 L1139.83 638.218 L1139.83 634.775 Q1142.16 632.365 1146.17 628.314 Q1150.2 624.243 1151.23 623.068 Q1153.19 620.86 1153.96 619.341 Q1154.75 617.802 1154.75 616.323 Q1154.75 613.913 1153.05 612.394 Q1151.37 610.875 1148.66 610.875 Q1146.73 610.875 1144.59 611.543 Q1142.46 612.211 1140.03 613.568 L1140.03 609.437 Q1142.5 608.444 1144.65 607.938 Q1146.79 607.431 1148.58 607.431 Q1153.28 607.431 1156.07 609.781 Q1158.87 612.13 1158.87 616.06 Q1158.87 617.923 1158.16 619.604 Q1157.47 621.265 1155.63 623.534 Q1155.12 624.121 1152.4 626.936 Q1149.69 629.732 1144.75 634.775 Z\" fill=\"#000000\" fill-rule=\"evenodd\" fill-opacity=\"1\" /><path clip-path=\"url(#clip110)\" d=\"M856.257 859.641 Q859.193 860.269 860.834 862.254 Q862.495 864.238 862.495 867.155 Q862.495 871.631 859.416 874.082 Q856.338 876.533 850.666 876.533 Q848.762 876.533 846.737 876.148 Q844.732 875.784 842.585 875.034 L842.585 871.084 Q844.286 872.077 846.312 872.583 Q848.337 873.09 850.545 873.09 Q854.393 873.09 856.398 871.571 Q858.424 870.051 858.424 867.155 Q858.424 864.482 856.54 862.983 Q854.677 861.464 851.335 861.464 L847.81 861.464 L847.81 858.101 L851.497 858.101 Q854.515 858.101 856.115 856.906 Q857.715 855.691 857.715 853.423 Q857.715 851.093 856.054 849.858 Q854.413 848.602 851.335 848.602 Q849.654 848.602 847.729 848.967 Q845.805 849.331 843.496 850.101 L843.496 846.455 Q845.826 845.807 847.851 845.483 Q849.897 845.159 851.699 845.159 Q856.358 845.159 859.072 847.285 Q861.786 849.392 861.786 852.997 Q861.786 855.509 860.348 857.251 Q858.91 858.972 856.257 859.641 Z\" fill=\"#000000\" fill-rule=\"evenodd\" fill-opacity=\"1\" /><path clip-path=\"url(#clip110)\" d=\"M1456.12 801.157 L1445.79 817.3 L1456.12 817.3 L1456.12 801.157 M1455.04 797.592 L1460.19 797.592 L1460.19 817.3 L1464.5 817.3 L1464.5 820.702 L1460.19 820.702 L1460.19 827.832 L1456.12 827.832 L1456.12 820.702 L1442.47 820.702 L1442.47 816.753 L1455.04 797.592 Z\" fill=\"#000000\" fill-rule=\"evenodd\" fill-opacity=\"1\" /><path clip-path=\"url(#clip110)\" d=\"M1305.57 1077.18 L1321.63 1077.18 L1321.63 1080.62 L1309.31 1080.62 L1309.31 1088.03 Q1310.2 1087.73 1311.1 1087.59 Q1311.99 1087.43 1312.88 1087.43 Q1317.94 1087.43 1320.9 1090.2 Q1323.86 1092.98 1323.86 1097.72 Q1323.86 1102.6 1320.82 1105.31 Q1317.78 1108 1312.25 1108 Q1310.35 1108 1308.36 1107.68 Q1306.4 1107.36 1304.29 1106.71 L1304.29 1102.6 Q1306.11 1103.59 1308.06 1104.07 Q1310 1104.56 1312.17 1104.56 Q1315.67 1104.56 1317.72 1102.72 Q1319.76 1100.87 1319.76 1097.72 Q1319.76 1094.56 1317.72 1092.71 Q1315.67 1090.87 1312.17 1090.87 Q1310.53 1090.87 1308.89 1091.23 Q1307.27 1091.6 1305.57 1092.37 L1305.57 1077.18 Z\" fill=\"#000000\" fill-rule=\"evenodd\" fill-opacity=\"1\" /><path clip-path=\"url(#clip110)\" d=\"M1012.66 1262.25 Q1009.9 1262.25 1008.28 1264.13 Q1006.68 1266.02 1006.68 1269.3 Q1006.68 1272.56 1008.28 1274.46 Q1009.9 1276.35 1012.66 1276.35 Q1015.41 1276.35 1017.01 1274.46 Q1018.63 1272.56 1018.63 1269.3 Q1018.63 1266.02 1017.01 1264.13 Q1015.41 1262.25 1012.66 1262.25 M1020.78 1249.43 L1020.78 1253.15 Q1019.24 1252.42 1017.66 1252.04 Q1016.1 1251.65 1014.56 1251.65 Q1010.51 1251.65 1008.36 1254.39 Q1006.24 1257.12 1005.93 1262.65 Q1007.13 1260.89 1008.93 1259.96 Q1010.73 1259.01 1012.9 1259.01 Q1017.46 1259.01 1020.09 1261.78 Q1022.74 1264.54 1022.74 1269.3 Q1022.74 1273.96 1019.99 1276.77 Q1017.24 1279.59 1012.66 1279.59 Q1007.41 1279.59 1004.64 1275.58 Q1001.86 1271.54 1001.86 1263.91 Q1001.86 1256.74 1005.26 1252.49 Q1008.67 1248.21 1014.4 1248.21 Q1015.94 1248.21 1017.5 1248.52 Q1019.08 1248.82 1020.78 1249.43 Z\" fill=\"#000000\" fill-rule=\"evenodd\" fill-opacity=\"1\" /><path clip-path=\"url(#clip110)\" d=\"M1494.68 1322.56 L1514.12 1322.56 L1514.12 1324.3 L1503.14 1352.8 L1498.87 1352.8 L1509.2 1326.01 L1494.68 1326.01 L1494.68 1322.56 Z\" fill=\"#000000\" fill-rule=\"evenodd\" fill-opacity=\"1\" /><path clip-path=\"url(#clip110)\" d=\"M1737.68 1087.88 Q1734.77 1087.88 1733.09 1089.44 Q1731.42 1091 1731.42 1093.74 Q1731.42 1096.47 1733.09 1098.03 Q1734.77 1099.59 1737.68 1099.59 Q1740.6 1099.59 1742.28 1098.03 Q1743.96 1096.45 1743.96 1093.74 Q1743.96 1091 1742.28 1089.44 Q1740.62 1087.88 1737.68 1087.88 M1733.59 1086.14 Q1730.96 1085.49 1729.48 1083.69 Q1728.02 1081.89 1728.02 1079.29 Q1728.02 1075.67 1730.59 1073.56 Q1733.19 1071.46 1737.68 1071.46 Q1742.2 1071.46 1744.77 1073.56 Q1747.34 1075.67 1747.34 1079.29 Q1747.34 1081.89 1745.87 1083.69 Q1744.41 1085.49 1741.79 1086.14 Q1744.75 1086.83 1746.39 1088.83 Q1748.05 1090.84 1748.05 1093.74 Q1748.05 1098.13 1745.36 1100.48 Q1742.69 1102.83 1737.68 1102.83 Q1732.68 1102.83 1729.99 1100.48 Q1727.31 1098.13 1727.31 1093.74 Q1727.31 1090.84 1728.97 1088.83 Q1730.63 1086.83 1733.59 1086.14 M1732.09 1079.68 Q1732.09 1082.03 1733.55 1083.34 Q1735.03 1084.66 1737.68 1084.66 Q1740.32 1084.66 1741.79 1083.34 Q1743.29 1082.03 1743.29 1079.68 Q1743.29 1077.33 1741.79 1076.01 Q1740.32 1074.7 1737.68 1074.7 Q1735.03 1074.7 1733.55 1076.01 Q1732.09 1077.33 1732.09 1079.68 Z\" fill=\"#000000\" fill-rule=\"evenodd\" fill-opacity=\"1\" /><path clip-path=\"url(#clip110)\" d=\"M653.831 536.238 L653.831 532.511 Q655.37 533.241 656.95 533.625 Q658.53 534.01 660.049 534.01 Q664.1 534.01 666.226 531.296 Q668.373 528.562 668.677 523.012 Q667.502 524.754 665.7 525.686 Q663.897 526.617 661.71 526.617 Q657.173 526.617 654.519 523.883 Q651.886 521.128 651.886 516.368 Q651.886 511.71 654.641 508.895 Q657.395 506.079 661.973 506.079 Q667.219 506.079 669.973 510.11 Q672.748 514.12 672.748 521.776 Q672.748 528.926 669.346 533.2 Q665.963 537.453 660.231 537.453 Q658.692 537.453 657.112 537.15 Q655.532 536.846 653.831 536.238 M661.973 523.417 Q664.727 523.417 666.328 521.533 Q667.948 519.65 667.948 516.368 Q667.948 513.108 666.328 511.224 Q664.727 509.32 661.973 509.32 Q659.218 509.32 657.598 511.224 Q655.998 513.108 655.998 516.368 Q655.998 519.65 657.598 521.533 Q659.218 523.417 661.973 523.417 Z\" fill=\"#000000\" fill-rule=\"evenodd\" fill-opacity=\"1\" /></svg>\n"
      ]
     },
     "execution_count": 275,
     "metadata": {},
     "output_type": "execute_result"
    }
   ],
   "source": [
    "BestProfit, Bestsol, trParentnodes, trChildnodes, trNamenodes = SolveKnapInstance(\"instancesETU/KNAPnewformat/test.opb.txt\")\n",
    "println(\"\\n******\\n\\nOptimal value = \", BestProfit, \"\\n\\nOptimal x=\", Bestsol)\n",
    "graphplot(trParentnodes, trChildnodes, names=trNamenodes, method=:tree)"
   ]
  },
  {
   "cell_type": "code",
   "execution_count": null,
   "metadata": {},
   "outputs": [],
   "source": []
  }
 ],
 "metadata": {
  "colab": {
   "provenance": []
  },
  "kernelspec": {
   "display_name": "Julia 1.8.2",
   "language": "julia",
   "name": "julia-1.8"
  },
  "language_info": {
   "file_extension": ".jl",
   "mimetype": "application/julia",
   "name": "julia",
   "version": "1.8.2"
  }
 },
 "nbformat": 4,
 "nbformat_minor": 1
}

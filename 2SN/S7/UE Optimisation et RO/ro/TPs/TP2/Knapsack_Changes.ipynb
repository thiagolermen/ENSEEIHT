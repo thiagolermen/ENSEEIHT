{
 "cells": [
  {
   "cell_type": "markdown",
   "metadata": {
    "id": "S07UYMEuKXlt"
   },
   "source": [
    "# Recherche Opérationnelle : TP2\n",
    "\n",
    "# Année 2022-2023 Département Sciences du Numérique. Groupe B2 \n",
    "\n",
    "## Travail réalisé par Andrei Pakhmutov et Thiago Sotoriva-Lermen"
   ]
  },
  {
   "cell_type": "markdown",
   "metadata": {
    "id": "Zh8k_o0JKXlx"
   },
   "source": [
    "## Questions préliminaires"
   ]
  },
  {
   "cell_type": "markdown",
   "metadata": {
    "id": "rC_qfS-qKXly"
   },
   "source": [
    "##### 1) Quelle est la règle de séparation ?\n",
    "La règle de séparation utilisée est la règle de critère lexicographique, c’est-à-dire que la séparation est effectuée sur le premier objet non encore fixé (dans le sens du parcours des listes définies dans readKnaptxtInstance."
   ]
  },
  {
   "cell_type": "markdown",
   "metadata": {
    "id": "OaDc-dgnKXl0"
   },
   "source": [
    "##### 2) Quelle est la méthode du calcul de la borne supérieure ?\n",
    "Il s'agit d'un calcul de l'optimum avec une relaxation linéaire au préalable (on remplit le sac avec les objets (éventuellement leurs fractions) avec les meilleurs ratios sans que la quantité de chacun dépasse 1 (contrainte d'unicité gardée)."
   ]
  },
  {
   "cell_type": "markdown",
   "metadata": {
    "id": "x6DN1GbiKXl3"
   },
   "source": [
    "##### 3) Quels sont les tests de sondabilité TA, TO, TR ?\n",
    "- TA : le test réussit si l'appel termination_status(model) renvoie MOI.INFEASIBLE, ce qui signifie que le problème n'a pas de solutions réalisables.\n",
    "- T0 : le test réussit si le calcul de la borne supérieure, relative à un noeud donné, avec objective_value(model) renvoie un valeur qui est inférieure à une valeur réalisable déjà connue (BestProfit dans le code).\n",
    "- TR : le test réussit si la solution optimale, relative à un noeud, est entière (et avec des coefficients tous inférieurs ou égaux à 1 a priori) ; dans le code, on cosidère que c'est le cas si la différence, en valeur absolue, entre les coefficients et leurs arrondis aux entiers les plus proches est inférieure ou égle à 10<sup>-5</sup>"
   ]
  },
  {
   "cell_type": "markdown",
   "metadata": {
    "id": "h9sjU9oUKXl4"
   },
   "source": [
    "##### 4) Quelle est la stratégie d'exploration ?\n",
    "La stratégie d’exploration utilisée est la recherche en profondeur en explorant d’abord les\n",
    "noeuds à gauche, suivis par les noeuds à droite. S’il n’y a pas de noeuds à droite on remonte aux\n",
    "parents pour reprendre à droite."
   ]
  },
  {
   "cell_type": "markdown",
   "metadata": {
    "id": "k-KuhV2EKXl7"
   },
   "source": [
    "## Code et analyse"
   ]
  },
  {
   "cell_type": "markdown",
   "metadata": {},
   "source": [
    "### Points clés de votre implémentation des différents blocs du Branch-and-Bound\n",
    "- Règle de séparation :\n",
    "    - choisir la 1ère variable fractionnaire $solution[k]$ dans l'ordre décroissant du ratio\n",
    "    - 2 sous-problèmes : $solution[k] = 0$ et $solution[k] = 1$\n",
    "- TA : réussi si la capacite restante $current\\_capacity$ est négative\n",
    "- TO : réussi si la borne supérieure $cost$ est pire que la meilleure solution connue $BestProfit$ du problème original\n",
    "- TR : réussi si la solution optimale $solution[k]$ du problème de relaxation courant est entière\n",
    "- Stratégie d'exploration : Comme dans la solution d'origine, la stratégie d’exploration utilisée est la recherche en profondeur en explorant d’abord les noeuds à gauche, suivis par les noeuds à droite. S’il n’y a pas de noeuds à droite on remonte aux parents pour reprendre à droite."
   ]
  },
  {
   "cell_type": "markdown",
   "metadata": {},
   "source": [
    "### Explication du choix de structure de données permettant de garder les informations nécessaires au Branch-and-Bound\n",
    "- Règle de séparation : Conservation des variables listobjs et listvals (et de leur sémantique) ainsi que l'introduction de plusieurs autres agents auxiliaires, relatifs pour la plupart à un noeud donné, comme :\n",
    "    - current_price : liste de couples : prix des objets non fixés associés à leurs identifiants\n",
    "    - current_weight : liste de couples : poids des objets non fixés associés à leurs identifiants\n",
    "- TA : variable $current\\_capacity$ qui contient la capacité relative au noeud sur lequel on se trouve à un instant donné\n",
    "- TO :\n",
    "    - variable $cost$ qui contient la valeur de la fonction objective relative au noeud sur lequel on se trouve à un instant donné\n",
    "    - variable $BestProfit$ qui contient la meilleure solution connue du problème original à un instant donné (initialisée avec -1, pour que les noeuds initiaux ne passent pas le test)\n",
    "    - la mise à jour par rapport à sa valeur initiale de $BestProfit$ est assurée par TR\n",
    "- TR : \n",
    "    - Étant donnée la stratégie d'exploration de recherche en profondeur, le vecteur-solution du problème $solution$ finira par devenir (pour la première fois) à valeur entière lorsqu'on arrivera à une feuille de l'arbre. C'est alors que la valeur de $BestProfit$ sera mise à jour par rapport à sa valeur initiale.\n",
    "    - Le test en lui même est basé sur l'évaluation, à chaque noeud, des décalages entre les coefficients effectifs de $solution$ et leurs arrondis aux entiers les plus proches, tous les décalages devant, en valeur absolue, être plus petits que $10^{-5}$. Par aillueurs, on contrôle que les valeurs en questions sont inférieures à $1.0$, ce qui protège l'algorithme des cas où l'on tomberait par hasard sur une valeur entière lors du calcul de la borne supérieure.\n",
    "- Stratégie d'exploration : Nous avons conservé la stratégie d'exploration de la version d'origine, en adoptant toutefois un point : nous mettons à jour la capacité et le coût intermédiaires à chaque fois qu'on change de noeud. Par ailleurs, à chaque fois que l'on remonte dans l'arbre en suivant une branche droite, on ajoute à $current\\_price$ et $current\\_weight$ les informations associées aux objets alors libérés, afin de ne pas perdre de données en remontant ainsi."
   ]
  },
  {
   "cell_type": "markdown",
   "metadata": {
    "id": "GTv1KARBKXl8"
   },
   "source": [
    "### Initialisation (à faire une seule fois)"
   ]
  },
  {
   "cell_type": "code",
   "execution_count": 1,
   "metadata": {
    "id": "AfcKFdCOKXl9",
    "outputId": "1084ee98-9ebe-4e0f-aa3a-950bb31e9398",
    "scrolled": true
   },
   "outputs": [
    {
     "name": "stderr",
     "output_type": "stream",
     "text": [
      "\u001b[32m\u001b[1m    Updating\u001b[22m\u001b[39m registry at `~/.julia/registries/General.toml`\n",
      "\u001b[32m\u001b[1m   Resolving\u001b[22m\u001b[39m package versions...\n",
      "\u001b[32m\u001b[1m  No Changes\u001b[22m\u001b[39m to `~/.julia/environments/v1.8/Project.toml`\n",
      "\u001b[32m\u001b[1m  No Changes\u001b[22m\u001b[39m to `~/.julia/environments/v1.8/Manifest.toml`\n",
      "\u001b[32m\u001b[1m   Resolving\u001b[22m\u001b[39m package versions...\n",
      "\u001b[32m\u001b[1m  No Changes\u001b[22m\u001b[39m to `~/.julia/environments/v1.8/Project.toml`\n",
      "\u001b[32m\u001b[1m  No Changes\u001b[22m\u001b[39m to `~/.julia/environments/v1.8/Manifest.toml`\n"
     ]
    }
   ],
   "source": [
    "import Pkg; \n",
    "Pkg.add(\"GraphRecipes\"); Pkg.add(\"Plots\"); \n",
    "using GraphRecipes, Plots #only used to visualize the search tree at the end of the branch-and-bound"
   ]
  },
  {
   "cell_type": "markdown",
   "metadata": {
    "id": "dbLpbf15KXmA"
   },
   "source": [
    "### Récupération des données"
   ]
  },
  {
   "cell_type": "code",
   "execution_count": 2,
   "metadata": {
    "colab": {
     "base_uri": "https://localhost:8080/",
     "height": 133
    },
    "id": "6y2jBjXSKXmB",
    "outputId": "06d88cac-1df0-4291-c51b-5d689b71dc82"
   },
   "outputs": [
    {
     "data": {
      "text/plain": [
       "readKnaptxtInstance (generic function with 1 method)"
      ]
     },
     "execution_count": 2,
     "metadata": {},
     "output_type": "execute_result"
    }
   ],
   "source": [
    "function readKnaptxtInstance(filename)\n",
    "    price=[]\n",
    "    weight=[]\n",
    "    KnapCap=[]\n",
    "    open(filename) do f\n",
    "        for i in 1:3\n",
    "            tok = split(readline(f))\n",
    "            if(tok[1] == \"ListPrices=\")\n",
    "                for i in 2:(length(tok)-1)\n",
    "                    push!(price,parse(Int64, tok[i]))\n",
    "                end\n",
    "            elseif(tok[1] == \"ListWeights=\")\n",
    "                for i in 2:(length(tok)-1)\n",
    "                    push!(weight,parse(Int64, tok[i]))\n",
    "                end\n",
    "            elseif(tok[1] == \"Capacity=\")\n",
    "                push!(KnapCap, parse(Int64, tok[2]))\n",
    "            else\n",
    "                println(\"Unknown read :\", tok)\n",
    "            end \n",
    "        end\n",
    "    end\n",
    "    capacity=KnapCap[1]\n",
    "    return price, weight, capacity\n",
    "end"
   ]
  },
  {
   "cell_type": "markdown",
   "metadata": {
    "id": "_-HLIPOXKXmD"
   },
   "source": [
    "### Tests de sondabilités TA, TO et TR basés sur le modèle linéaire"
   ]
  },
  {
   "cell_type": "code",
   "execution_count": 3,
   "metadata": {
    "id": "Xyr39ZYLKXmE",
    "outputId": "53c99f7a-6522-4707-924b-5d26c026005b"
   },
   "outputs": [
    {
     "data": {
      "text/plain": [
       "TestsSondabilite_relaxation_lineaire (generic function with 1 method)"
      ]
     },
     "execution_count": 3,
     "metadata": {},
     "output_type": "execute_result"
    }
   ],
   "source": [
    "\n",
    "function TestsSondabilite_relaxation_lineaire(admissible, cost, solutions, BestProfit, Bestsol, affichage_detaille)\n",
    "    \n",
    "    TA, TO, TR = false, false, false\n",
    "    if(!admissible)#Test de faisabilite\n",
    "        TA=true\n",
    "        if affichage_detaille\n",
    "            println(\"TA\")\n",
    "        end\n",
    "    elseif(cost <= BestProfit) #Test d'optimalite\n",
    "        TO=true\n",
    "        if affichage_detaille\n",
    "            println(\"TO\")\n",
    "        end\n",
    "    elseif( prod(abs.([round.(v, digits=0) for v in solutions]-solutions) .<= fill(10^-5, size(solutions)))\n",
    "            && prod(v <= 1.0 for v in solutions)) \n",
    "        #Test de resolution\n",
    "        TR=true\n",
    "        if affichage_detaille\n",
    "            println(\"TR\")\n",
    "        end\n",
    "        #if (value(benef) >= BestProfit)\n",
    "        if (cost >= BestProfit)\n",
    "            Bestsol = deepcopy(solutions)\n",
    "            #BestProfit=value(benef)\n",
    "            BestProfit= cost\n",
    "            if affichage_detaille\n",
    "                println(\"\\nNew Solution memorized \", Bestsol, \" with bestprofit \", BestProfit, \"\\n\")\n",
    "            end\n",
    "        end\n",
    "    else\n",
    "        if affichage_detaille\n",
    "            println(\"non sondable\")\n",
    "        end\n",
    "    end\n",
    "    TA, TO, TR, Bestsol, BestProfit\n",
    "end"
   ]
  },
  {
   "cell_type": "markdown",
   "metadata": {
    "id": "Vrg95O0jKXmF"
   },
   "source": [
    "### Procédure de séparation (branching) et stratégie d'exploration permettant de se placer au prochain noeud à traiter"
   ]
  },
  {
   "cell_type": "code",
   "execution_count": 4,
   "metadata": {
    "id": "Q1zTDUpUKXmF",
    "outputId": "a258de83-d4f0-4893-bf28-6f224079b11e"
   },
   "outputs": [
    {
     "data": {
      "text/plain": [
       "ExplorerAutreNoeud_relaxation_lineaire (generic function with 1 method)"
      ]
     },
     "execution_count": 4,
     "metadata": {},
     "output_type": "execute_result"
    }
   ],
   "source": [
    "\n",
    "function SeparerNoeud_relaxation_lineaire(current_price, current_weight, current_capacity, solution_sup_bound, listobjs, listvals, price)\n",
    "    # This node is non-sondable. Apply the branching criterion to separate it into two subnodes\n",
    "    # and choose the child-node at the left.\n",
    "    # The separation criteria is to chose the object with the best ratio (among the objects that have not yet been fixed)\n",
    "    \n",
    "    nb_obj_rest = length(current_price)\n",
    "\n",
    "    current_price_val = [current_price[i][1] for i=1:nb_obj_rest]\n",
    "    \n",
    "    current_weight_val = [current_weight[i][1] for i=1:nb_obj_rest]\n",
    "    \n",
    "    current_list_ind = [current_price[i][2] for i=1:nb_obj_rest]\n",
    "    \n",
    "    ratios = current_price_val ./ current_weight_val\n",
    "\n",
    "    index_max_ratio = findmax(ratios)[2]\n",
    "\n",
    "    obj = current_list_ind[index_max_ratio]\n",
    "\n",
    "    # depthfirst exploration strategy: the node selected will be the most left of the child-nodes just created\n",
    "    push!(listobjs,obj) #save the identity of the object selected for branching\n",
    "    push!(listvals,1.0) #save the node selected, identified by the value assigned to the variable/object chosen\n",
    "    \n",
    "    new_capacity = current_capacity - current_weight_val[index_max_ratio]\n",
    "    # new_cost = cost + current_price[index_max_ratio]         si on passe en paramètre cost\n",
    "    fixed_cost = sum([price[listobjs[i]] * listvals[i] for i=1:length(listobjs)])\n",
    "\n",
    "    deleteat!(current_price, index_max_ratio)\n",
    "    deleteat!(current_weight, index_max_ratio)\n",
    "\n",
    "    # return new_capacity, new_cost si on passe en paramètre cost\n",
    "    return new_capacity, fixed_cost\n",
    "end\n",
    "\n",
    "\n",
    "function ExplorerAutreNoeud_relaxation_lineaire(current_price, current_weight, current_capacity, fixed_cost, weight, price, listobjs, listvals, listnodes, affichage_detaille)\n",
    "    #this node is sondable, go back to parent node then right child if possible\n",
    "    \n",
    "    new_capacity = current_capacity\n",
    "    new_fixed_cost = fixed_cost\n",
    "    \n",
    "    stop=false\n",
    "    #check if we are not at the root node\n",
    "    if (length(listobjs)>= 1)\n",
    "        #go back to parent node\n",
    "        obj=pop!(listobjs)\n",
    "        theval=pop!(listvals)\n",
    "        tmp=pop!(listnodes)\n",
    "\n",
    "        \n",
    "        #go to right child if possible, otherwise go back to parent\n",
    "        while( (theval==0.0) && (length(listobjs)>= 1))\n",
    "            push!(current_price, (price[obj],obj))\n",
    "            push!(current_weight, (weight[obj],obj))\n",
    "            obj=pop!(listobjs)\n",
    "            theval=pop!(listvals)\n",
    "            tmp=pop!(listnodes)\n",
    "        end\n",
    "        \n",
    "        if theval==1.0\n",
    "            push!(listobjs,obj)\n",
    "            push!(listvals,0.0)\n",
    "            new_capacity = current_capacity + theval*weight[obj]\n",
    "            new_fixed_cost = fixed_cost - theval*price[obj]\n",
    "        else\n",
    "            if affichage_detaille\n",
    "                println(\"\\nFINISHED\")\n",
    "            end\n",
    "            stop=true\n",
    "        end\n",
    "    else\n",
    "        #the root node was sondable\n",
    "        if affichage_detaille\n",
    "            println(\"\\nFINISHED\")\n",
    "        end\n",
    "        stop=true\n",
    "    end\n",
    "    return stop, new_capacity, new_fixed_cost\n",
    "end"
   ]
  },
  {
   "cell_type": "markdown",
   "metadata": {},
   "source": [
    "### Borne supérieure"
   ]
  },
  {
   "cell_type": "code",
   "execution_count": 5,
   "metadata": {
    "id": "2CDb-8ICKXmH"
   },
   "outputs": [
    {
     "data": {
      "text/plain": [
       "optimizer (generic function with 1 method)"
      ]
     },
     "execution_count": 5,
     "metadata": {},
     "output_type": "execute_result"
    }
   ],
   "source": [
    "#Calcul de la borne supérieure et de son coût (relatif à un noeud donné)\n",
    "function optimizer(borne, current_price, current_weight, current_capacity, n, listobjs, listvals)\n",
    "    \n",
    "    nb_obj_rest = length(current_price)\n",
    "\n",
    "    current_price_val = [current_price[i][1] for i=1:nb_obj_rest]\n",
    "    \n",
    "    current_weight_val = [current_weight[i][1] for i=1:nb_obj_rest]\n",
    "    \n",
    "    current_list_ind = [current_price[i][2] for i=1:nb_obj_rest]\n",
    "    \n",
    "    ratio = current_price_val ./ current_weight_val\n",
    "    \n",
    "    stop = false\n",
    "\n",
    "    indices_ratio = sortperm(ratio, rev = true)\n",
    "    \n",
    "    solutions = zeros(n)\n",
    "    for i=1:n\n",
    "        if i in listobjs\n",
    "            ind = findfirst(x->x==i, listobjs)\n",
    "            if listvals[ind] == 1.0\n",
    "                solutions[i] = 1.0\n",
    "            end \n",
    "        end\n",
    "    end\n",
    "    \n",
    "    cost = 0\n",
    "    \n",
    "    if current_price != []\n",
    "\n",
    "        if borne == 1\n",
    "            ind_best_ratio = indices_ratio[1]\n",
    "            solutions[ind_best_ratio] = current_capacity / current_weight_val[ind_best_ratio]\n",
    "            cost = cost + solutions[ind_best_ratio] * current_price_val[ind_best_ratio]\n",
    "        else\n",
    "            i = 1\n",
    "            j = current_capacity\n",
    "\n",
    "            while(!stop)\n",
    "                indice = indices_ratio[i]\n",
    "                if (current_weight_val[indice] <= j)\n",
    "                    solutions[indice] = 1.0\n",
    "                    cost = cost + current_price_val[indice]\n",
    "                    j = j - current_weight_val[indice]\n",
    "                    i = i + 1\n",
    "                else\n",
    "                    solutions[indice] = j / current_weight_val[indice]\n",
    "                    cost = cost + solutions[indice] * current_price_val[indice]\n",
    "                    j = 0\n",
    "                    stop = true\n",
    "                end\n",
    "                if (i > length(current_price))\n",
    "                    stop = true\n",
    "                end\n",
    "            end\n",
    "        end\n",
    "    end\n",
    "    return cost, solutions\n",
    "end"
   ]
  },
  {
   "cell_type": "markdown",
   "metadata": {
    "id": "R1qg5VPzKXmI"
   },
   "source": [
    "### Boucle principale : résoudre une relaxation, appliquer les tests de sondabilité, identifier le prochain noeud, répéter."
   ]
  },
  {
   "cell_type": "code",
   "execution_count": 6,
   "metadata": {
    "id": "DausKbNzKXmI",
    "outputId": "dae7be36-fdd9-45c1-990a-d24cca02640d"
   },
   "outputs": [
    {
     "data": {
      "text/plain": [
       "SolveKnapInstance (generic function with 1 method)"
      ]
     },
     "execution_count": 6,
     "metadata": {},
     "output_type": "execute_result"
    }
   ],
   "source": [
    "\n",
    "function SolveKnapInstance(filename, borne)\n",
    "\n",
    "    price, weight, capacity = readKnaptxtInstance(filename)\n",
    "\n",
    "    n = length(price)\n",
    "\n",
    "    #create the structure to memorize the search tree for visualization at the end\n",
    "    trParentnodes = Int64[] #will store orig node of arc in search tree\n",
    "    trChildnodes = Int64[] #will store destination node of arc in search tree\n",
    "    trNamenodes = [] #will store names of nodes in search tree\n",
    "\n",
    "    #intermediate structure to navigate in the search tree\n",
    "    listobjs = [] # list of fixed coefficients\n",
    "    listvals = [] # list of fixed coeffieicient values \n",
    "    listnodes = [] # list of node numbers\n",
    "\n",
    "    BestProfit = -1 # objective function value evaluated based on the best realizable solution\n",
    "    Bestsol = [] # best realizable solution\n",
    "    \n",
    "    current_price = [(price[i],i) for i=1:n] # list of unfixed coefficient prices\n",
    "    current_weight = [(weight[i],i) for i=1:n] # list of unfixed coefficient weights\n",
    "    current_capacity = capacity # remaining capacity\n",
    "\n",
    "    current_node_number = 0\n",
    "    stop = false\n",
    "\n",
    "    fixed_cost = 0.0\n",
    "    cost = fixed_cost\n",
    "    \n",
    "    solution = []\n",
    "    \n",
    "    index_separation = 0\n",
    "    \n",
    "    affichage_detaille = false\n",
    "    \n",
    "    while(!stop)\n",
    "        \n",
    "        if affichage_detaille\n",
    "            println(\"\\nNode number \", current_node_number, \": \\n---------------\\n\")\n",
    "\n",
    "            print(\"Max \", price[1], \" \", \"x[1] \")\n",
    "            for i=2:n\n",
    "                print(price[i], \" \", \"x[\", i,\"] \")\n",
    "            end\n",
    "            println(\"\")\n",
    "            println(\"Subject to\")\n",
    "\n",
    "            print(weight[1], \"x[1] \")\n",
    "            for i=2:n\n",
    "                print(weight[i], \"x[\", i,\"] \")\n",
    "            end\n",
    "            println(\"≤ \", current_capacity)\n",
    "\n",
    "            for i=1:n\n",
    "                print(\"x[\", i, \"]\", \" ≥ \")\n",
    "                if i in listobjs\n",
    "                    println(listvals[findfirst(x->x==i, listobjs)])\n",
    "                else\n",
    "                    println(\"0.0\")\n",
    "                end\n",
    "            end\n",
    "\n",
    "            for i=1:n\n",
    "                print(\"x[\", i, \"]\", \" ≤ \")\n",
    "                if i in listobjs\n",
    "                    println(listvals[findfirst(x->x==i, listobjs)])\n",
    "                else\n",
    "                    println(\"1.0\")\n",
    "                end\n",
    "            end\n",
    "        end\n",
    "        \n",
    "        \n",
    "        #Update the graphical tree\n",
    "        push!(trNamenodes,current_node_number+1) \n",
    "        if(length(trNamenodes) >= 2)\n",
    "            push!(trParentnodes,listnodes[end] + 1) # +1 because the 1st node is \"node 0\"\n",
    "            push!(trChildnodes, current_node_number + 1) # +1 because the 1st node is \"node 0\"\n",
    "        end\n",
    "        push!(listnodes, current_node_number)\n",
    "        \n",
    "        if affichage_detaille\n",
    "            print(\"Solve the LP model of the current node to compute its bound: start ... \")\n",
    "        end\n",
    "        \n",
    "        # Call the optimize function\n",
    "        admissible = (current_capacity >= 0)\n",
    "        if admissible\n",
    "            borne_sup_cost, solution = optimizer(borne, current_price, current_weight, current_capacity, n, listobjs, listvals)\n",
    "            cost = borne_sup_cost + fixed_cost\n",
    "        else\n",
    "            if affichage_detaille\n",
    "                print(\" : NOT AVAILABLE (probably infeasible or ressources limit reached)\")\n",
    "            end\n",
    "        end\n",
    "\n",
    "        if affichage_detaille\n",
    "            println(\"end\"); \n",
    "\n",
    "            print(\": Solution LP \", cost, \"     \", \"x[1]=\", solution[1], \"     \")\n",
    "            for i=2:n\n",
    "                print(\"x[\",i,\"]=\",solution[i], \"     \")\n",
    "            end\n",
    "            println(\"\")\n",
    "\n",
    "            println(\"\\nPrevious Solution memorized \", Bestsol, \" with bestprofit \", BestProfit, \"\\n\")\n",
    "        end\n",
    "\n",
    "        TA, TO, TR, Bestsol, BestProfit = TestsSondabilite_relaxation_lineaire(admissible, cost, solution, BestProfit, Bestsol, affichage_detaille)\n",
    "        is_node_sondable = TA || TO || TR\n",
    "\n",
    "        if !is_node_sondable\n",
    "            current_capacity, fixed_cost = SeparerNoeud_relaxation_lineaire(current_price, current_weight, current_capacity, solution, listobjs, listvals, price)\n",
    "        else\n",
    "            stop, current_capacity, fixed_cost = ExplorerAutreNoeud_relaxation_lineaire(current_price, current_weight, current_capacity, fixed_cost, weight, price, listobjs, listvals, listnodes, affichage_detaille)\n",
    "        end\n",
    "        \n",
    "        current_node_number = current_node_number + 1\n",
    "    end\n",
    "\n",
    "    return BestProfit, Bestsol, current_node_number, trParentnodes, trChildnodes, trNamenodes\n",
    "\n",
    "end\n"
   ]
  },
  {
   "cell_type": "markdown",
   "metadata": {
    "id": "5mOshNaMKXmJ"
   },
   "source": [
    "### Affichage du résultat final"
   ]
  },
  {
   "cell_type": "code",
   "execution_count": 10,
   "metadata": {
    "id": "delwUlogKXmK",
    "outputId": "47e82dc3-c7e1-4ef9-fc3e-fcfc83c44769",
    "scrolled": false
   },
   "outputs": [
    {
     "name": "stdout",
     "output_type": "stream",
     "text": [
      "\n",
      "******\n",
      "\n",
      "Optimal value = 65.0\n",
      "\n",
      "Optimal x = [0.0, 1.0, 0.0, 1.0]\n"
     ]
    },
    {
     "data": {
      "image/svg+xml": [
       "<?xml version=\"1.0\" encoding=\"utf-8\"?>\n",
       "<svg xmlns=\"http://www.w3.org/2000/svg\" xmlns:xlink=\"http://www.w3.org/1999/xlink\" width=\"600\" height=\"400\" viewBox=\"0 0 2400 1600\">\n",
       "<defs>\n",
       "  <clipPath id=\"clip160\">\n",
       "    <rect x=\"0\" y=\"0\" width=\"2400\" height=\"1600\"/>\n",
       "  </clipPath>\n",
       "</defs>\n",
       "<path clip-path=\"url(#clip160)\" d=\"\n",
       "M0 1600 L2400 1600 L2400 0 L0 0  Z\n",
       "  \" fill=\"#ffffff\" fill-rule=\"evenodd\" fill-opacity=\"1\"/>\n",
       "<defs>\n",
       "  <clipPath id=\"clip161\">\n",
       "    <rect x=\"480\" y=\"0\" width=\"1681\" height=\"1600\"/>\n",
       "  </clipPath>\n",
       "</defs>\n",
       "<path clip-path=\"url(#clip160)\" d=\"\n",
       "M447.244 1552.76 L1952.76 1552.76 L1952.76 47.2441 L447.244 47.2441  Z\n",
       "  \" fill=\"#ffffff\" fill-rule=\"evenodd\" fill-opacity=\"1\"/>\n",
       "<defs>\n",
       "  <clipPath id=\"clip162\">\n",
       "    <rect x=\"447\" y=\"47\" width=\"1507\" height=\"1507\"/>\n",
       "  </clipPath>\n",
       "</defs>\n",
       "<polyline clip-path=\"url(#clip162)\" style=\"stroke:#000000; stroke-linecap:round; stroke-linejoin:round; stroke-width:4; stroke-opacity:1; fill:none\" points=\"\n",
       "  1444.47,262.317 1443.78,272.902 1441.77,283.294 1438.53,293.509 1434.16,303.559 1428.76,313.461 1422.44,323.227 1415.28,332.872 1407.39,342.41 1398.86,351.856 \n",
       "  1389.79,361.223 1380.29,370.526 1370.44,379.78 1360.34,388.998 1350.1,398.195 1339.81,407.384 1329.57,416.581 1319.47,425.799 1309.62,435.052 1300.11,444.356 \n",
       "  1291.04,453.723 1282.52,463.169 1274.62,472.707 1267.47,482.352 1261.14,492.118 1255.75,502.019 1251.38,512.07 1248.14,522.285 1246.13,532.677 1245.43,543.261 \n",
       "  \n",
       "  \"/>\n",
       "<polyline clip-path=\"url(#clip162)\" style=\"stroke:#000000; stroke-linecap:round; stroke-linejoin:round; stroke-width:4; stroke-opacity:1; fill:none\" points=\"\n",
       "  1245.43,543.261 1246.31,550.686 1248.88,557.618 1252.99,564.093 1258.54,570.147 1265.4,575.818 1273.44,581.142 1282.54,586.155 1292.57,590.893 1303.41,595.395 \n",
       "  1314.94,599.695 1327.02,603.831 1339.54,607.839 1352.38,611.755 1365.4,615.617 1378.48,619.46 1391.5,623.322 1404.33,627.239 1416.85,631.247 1428.94,635.382 \n",
       "  1440.46,639.683 1451.3,644.184 1461.33,648.923 1470.43,653.936 1478.47,659.259 1485.33,664.93 1490.88,670.985 1495,677.459 1497.56,684.391 1498.44,691.816 \n",
       "  \n",
       "  \"/>\n",
       "<polyline clip-path=\"url(#clip162)\" style=\"stroke:#000000; stroke-linecap:round; stroke-linejoin:round; stroke-width:4; stroke-opacity:1; fill:none\" points=\"\n",
       "  1245.43,543.261 1244.81,552.77 1243.02,562.112 1240.13,571.301 1236.24,580.348 1231.43,589.266 1225.79,598.066 1219.42,606.762 1212.38,615.366 1204.78,623.89 \n",
       "  1196.7,632.346 1188.23,640.746 1179.45,649.104 1170.45,657.43 1161.33,665.739 1152.15,674.041 1143.03,682.349 1134.03,690.675 1125.25,699.033 1116.78,707.434 \n",
       "  1108.7,715.889 1101.1,724.413 1094.06,733.017 1087.69,741.713 1082.05,750.514 1077.24,759.431 1073.35,768.478 1070.46,777.667 1068.67,787.009 1068.05,796.518 \n",
       "  \n",
       "  \"/>\n",
       "<polyline clip-path=\"url(#clip162)\" style=\"stroke:#000000; stroke-linecap:round; stroke-linejoin:round; stroke-width:4; stroke-opacity:1; fill:none\" points=\"\n",
       "  1068.05,796.518 1067.15,804.378 1064.55,811.715 1060.37,818.569 1054.74,824.979 1047.77,830.982 1039.61,836.617 1030.37,841.924 1020.19,846.94 1009.18,851.705 \n",
       "  997.48,856.257 985.21,860.635 972.497,864.878 959.468,869.024 946.25,873.112 932.969,877.181 919.75,881.269 906.722,885.415 894.009,889.657 881.739,894.036 \n",
       "  870.037,898.588 859.03,903.353 848.846,908.369 839.608,913.676 831.446,919.311 824.484,925.314 818.849,931.724 814.667,938.578 812.066,945.915 811.171,953.775 \n",
       "  \n",
       "  \"/>\n",
       "<polyline clip-path=\"url(#clip162)\" style=\"stroke:#000000; stroke-linecap:round; stroke-linejoin:round; stroke-width:4; stroke-opacity:1; fill:none\" points=\"\n",
       "  811.171,953.775 811.537,966.217 812.601,978.83 814.31,991.6 816.615,1004.52 819.462,1017.56 822.799,1030.73 826.577,1044.01 830.741,1057.38 835.242,1070.83 \n",
       "  840.027,1084.36 845.045,1097.94 850.243,1111.56 855.571,1125.21 860.976,1138.89 866.407,1152.57 871.812,1166.24 877.14,1179.9 882.338,1193.52 887.356,1207.1 \n",
       "  892.141,1220.62 896.641,1234.08 900.806,1247.45 904.583,1260.72 907.921,1273.89 910.768,1286.94 913.072,1299.86 914.782,1312.63 915.846,1325.24 916.212,1337.68 \n",
       "  \n",
       "  \"/>\n",
       "<polyline clip-path=\"url(#clip162)\" style=\"stroke:#000000; stroke-linecap:round; stroke-linejoin:round; stroke-width:4; stroke-opacity:1; fill:none\" points=\"\n",
       "  811.171,953.775 810.652,966.225 809.144,978.749 806.721,991.342 803.456,1004 799.422,1016.71 794.692,1029.48 789.339,1042.3 783.437,1055.15 777.059,1068.05 \n",
       "  770.279,1080.97 763.168,1093.92 755.802,1106.88 748.252,1119.86 740.592,1132.85 732.896,1145.85 725.236,1158.83 717.686,1171.82 710.32,1184.78 703.209,1197.73 \n",
       "  696.429,1210.65 690.051,1223.54 684.149,1236.4 678.796,1249.22 674.066,1261.98 670.032,1274.7 666.767,1287.36 664.344,1299.95 662.836,1312.47 662.317,1324.92 \n",
       "  \n",
       "  \"/>\n",
       "<polyline clip-path=\"url(#clip162)\" style=\"stroke:#000000; stroke-linecap:round; stroke-linejoin:round; stroke-width:4; stroke-opacity:1; fill:none\" points=\"\n",
       "  1068.05,796.518 1068.7,806.984 1070.58,817.309 1073.6,827.503 1077.68,837.575 1082.71,847.538 1088.62,857.4 1095.3,867.173 1102.67,876.867 1110.63,886.493 \n",
       "  1119.09,896.061 1127.97,905.582 1137.16,915.066 1146.59,924.523 1156.15,933.965 1165.76,943.402 1175.32,952.844 1184.74,962.302 1193.94,971.786 1202.81,981.306 \n",
       "  1211.28,990.874 1219.24,1000.5 1226.61,1010.19 1233.29,1019.97 1239.19,1029.83 1244.23,1039.79 1248.3,1049.86 1251.33,1060.06 1253.21,1070.38 1253.86,1080.85 \n",
       "  \n",
       "  \"/>\n",
       "<polyline clip-path=\"url(#clip162)\" style=\"stroke:#000000; stroke-linecap:round; stroke-linejoin:round; stroke-width:4; stroke-opacity:1; fill:none\" points=\"\n",
       "  1444.47,262.317 1445.5,274.094 1448.47,285.248 1453.24,295.825 1459.67,305.87 1467.62,315.431 1476.93,324.554 1487.48,333.284 1499.1,341.667 1511.67,349.751 \n",
       "  1525.02,357.581 1539.03,365.202 1553.54,372.663 1568.41,380.008 1583.5,387.283 1598.66,394.536 1613.75,401.812 1628.62,409.156 1643.13,416.617 1657.13,424.239 \n",
       "  1670.49,432.068 1683.05,440.152 1694.68,448.536 1705.22,457.265 1714.54,466.388 1722.49,475.949 1728.92,485.995 1733.69,496.571 1736.66,507.725 1737.68,519.502 \n",
       "  \n",
       "  \"/>\n",
       "<path clip-path=\"url(#clip162)\" d=\"\n",
       "M1463.54 262.317 L1454.01 245.802 L1434.94 245.802 L1425.4 262.317 L1434.94 278.832 L1454.01 278.832 L1463.54 262.317 L1463.54 262.317  Z\n",
       "  \" fill=\"#009af9\" fill-rule=\"evenodd\" fill-opacity=\"1\"/>\n",
       "<polyline clip-path=\"url(#clip162)\" style=\"stroke:#000000; stroke-linecap:round; stroke-linejoin:round; stroke-width:4; stroke-opacity:1; fill:none\" points=\"\n",
       "  1463.54,262.317 1454.01,245.802 1434.94,245.802 1425.4,262.317 1434.94,278.832 1454.01,278.832 1463.54,262.317 \n",
       "  \"/>\n",
       "<path clip-path=\"url(#clip162)\" d=\"\n",
       "M1264.5 543.261 L1254.97 526.747 L1235.9 526.747 L1226.36 543.261 L1235.9 559.776 L1254.97 559.776 L1264.5 543.261 L1264.5 543.261  Z\n",
       "  \" fill=\"#009af9\" fill-rule=\"evenodd\" fill-opacity=\"1\"/>\n",
       "<polyline clip-path=\"url(#clip162)\" style=\"stroke:#000000; stroke-linecap:round; stroke-linejoin:round; stroke-width:4; stroke-opacity:1; fill:none\" points=\"\n",
       "  1264.5,543.261 1254.97,526.747 1235.9,526.747 1226.36,543.261 1235.9,559.776 1254.97,559.776 1264.5,543.261 \n",
       "  \"/>\n",
       "<path clip-path=\"url(#clip162)\" d=\"\n",
       "M1517.51 691.816 L1507.98 675.301 L1488.91 675.301 L1479.37 691.816 L1488.91 708.331 L1507.98 708.331 L1517.51 691.816 L1517.51 691.816  Z\n",
       "  \" fill=\"#009af9\" fill-rule=\"evenodd\" fill-opacity=\"1\"/>\n",
       "<polyline clip-path=\"url(#clip162)\" style=\"stroke:#000000; stroke-linecap:round; stroke-linejoin:round; stroke-width:4; stroke-opacity:1; fill:none\" points=\"\n",
       "  1517.51,691.816 1507.98,675.301 1488.91,675.301 1479.37,691.816 1488.91,708.331 1507.98,708.331 1517.51,691.816 \n",
       "  \"/>\n",
       "<path clip-path=\"url(#clip162)\" d=\"\n",
       "M1087.12 796.518 L1077.58 780.003 L1058.51 780.003 L1048.98 796.518 L1058.51 813.033 L1077.58 813.033 L1087.12 796.518 L1087.12 796.518  Z\n",
       "  \" fill=\"#009af9\" fill-rule=\"evenodd\" fill-opacity=\"1\"/>\n",
       "<polyline clip-path=\"url(#clip162)\" style=\"stroke:#000000; stroke-linecap:round; stroke-linejoin:round; stroke-width:4; stroke-opacity:1; fill:none\" points=\"\n",
       "  1087.12,796.518 1077.58,780.003 1058.51,780.003 1048.98,796.518 1058.51,813.033 1077.58,813.033 1087.12,796.518 \n",
       "  \"/>\n",
       "<path clip-path=\"url(#clip162)\" d=\"\n",
       "M830.241 953.775 L820.706 937.26 L801.636 937.26 L792.101 953.775 L801.636 970.29 L820.706 970.29 L830.241 953.775 L830.241 953.775  Z\n",
       "  \" fill=\"#009af9\" fill-rule=\"evenodd\" fill-opacity=\"1\"/>\n",
       "<polyline clip-path=\"url(#clip162)\" style=\"stroke:#000000; stroke-linecap:round; stroke-linejoin:round; stroke-width:4; stroke-opacity:1; fill:none\" points=\"\n",
       "  830.241,953.775 820.706,937.26 801.636,937.26 792.101,953.775 801.636,970.29 820.706,970.29 830.241,953.775 \n",
       "  \"/>\n",
       "<path clip-path=\"url(#clip162)\" d=\"\n",
       "M935.282 1337.68 L925.747 1321.17 L906.677 1321.17 L897.142 1337.68 L906.677 1354.2 L925.747 1354.2 L935.282 1337.68 L935.282 1337.68  Z\n",
       "  \" fill=\"#009af9\" fill-rule=\"evenodd\" fill-opacity=\"1\"/>\n",
       "<polyline clip-path=\"url(#clip162)\" style=\"stroke:#000000; stroke-linecap:round; stroke-linejoin:round; stroke-width:4; stroke-opacity:1; fill:none\" points=\"\n",
       "  935.282,1337.68 925.747,1321.17 906.677,1321.17 897.142,1337.68 906.677,1354.2 925.747,1354.2 935.282,1337.68 \n",
       "  \"/>\n",
       "<path clip-path=\"url(#clip162)\" d=\"\n",
       "M681.387 1324.92 L671.852 1308.41 L652.782 1308.41 L643.247 1324.92 L652.782 1341.44 L671.852 1341.44 L681.387 1324.92 L681.387 1324.92  Z\n",
       "  \" fill=\"#009af9\" fill-rule=\"evenodd\" fill-opacity=\"1\"/>\n",
       "<polyline clip-path=\"url(#clip162)\" style=\"stroke:#000000; stroke-linecap:round; stroke-linejoin:round; stroke-width:4; stroke-opacity:1; fill:none\" points=\"\n",
       "  681.387,1324.92 671.852,1308.41 652.782,1308.41 643.247,1324.92 652.782,1341.44 671.852,1341.44 681.387,1324.92 \n",
       "  \"/>\n",
       "<path clip-path=\"url(#clip162)\" d=\"\n",
       "M1272.93 1080.85 L1263.39 1064.33 L1244.32 1064.33 L1234.79 1080.85 L1244.32 1097.36 L1263.39 1097.36 L1272.93 1080.85 L1272.93 1080.85  Z\n",
       "  \" fill=\"#009af9\" fill-rule=\"evenodd\" fill-opacity=\"1\"/>\n",
       "<polyline clip-path=\"url(#clip162)\" style=\"stroke:#000000; stroke-linecap:round; stroke-linejoin:round; stroke-width:4; stroke-opacity:1; fill:none\" points=\"\n",
       "  1272.93,1080.85 1263.39,1064.33 1244.32,1064.33 1234.79,1080.85 1244.32,1097.36 1263.39,1097.36 1272.93,1080.85 \n",
       "  \"/>\n",
       "<path clip-path=\"url(#clip162)\" d=\"\n",
       "M1756.75 519.502 L1747.22 502.987 L1728.15 502.987 L1718.61 519.502 L1728.15 536.017 L1747.22 536.017 L1756.75 519.502 L1756.75 519.502  Z\n",
       "  \" fill=\"#009af9\" fill-rule=\"evenodd\" fill-opacity=\"1\"/>\n",
       "<polyline clip-path=\"url(#clip162)\" style=\"stroke:#000000; stroke-linecap:round; stroke-linejoin:round; stroke-width:4; stroke-opacity:1; fill:none\" points=\"\n",
       "  1756.75,519.502 1747.22,502.987 1728.15,502.987 1718.61,519.502 1728.15,536.017 1747.22,536.017 1756.75,519.502 \n",
       "  \"/>\n",
       "<path clip-path=\"url(#clip162)\" d=\"M1444.47 262.717 L1444.13 262.517 L1444.13 262.117 L1444.47 261.917 L1444.82 262.117 L1444.82 262.517 Z\" fill=\"#009af9\" fill-rule=\"evenodd\" fill-opacity=\"1\" stroke=\"#000000\" stroke-opacity=\"1\" stroke-width=\"3.2\"/>\n",
       "<path clip-path=\"url(#clip162)\" d=\"M1245.43 543.661 L1245.09 543.461 L1245.09 543.061 L1245.43 542.861 L1245.78 543.061 L1245.78 543.461 Z\" fill=\"#009af9\" fill-rule=\"evenodd\" fill-opacity=\"1\" stroke=\"#000000\" stroke-opacity=\"1\" stroke-width=\"3.2\"/>\n",
       "<path clip-path=\"url(#clip162)\" d=\"M1498.44 692.216 L1498.1 692.016 L1498.1 691.616 L1498.44 691.416 L1498.79 691.616 L1498.79 692.016 Z\" fill=\"#009af9\" fill-rule=\"evenodd\" fill-opacity=\"1\" stroke=\"#000000\" stroke-opacity=\"1\" stroke-width=\"3.2\"/>\n",
       "<path clip-path=\"url(#clip162)\" d=\"M1068.05 796.918 L1067.7 796.718 L1067.7 796.318 L1068.05 796.118 L1068.39 796.318 L1068.39 796.718 Z\" fill=\"#009af9\" fill-rule=\"evenodd\" fill-opacity=\"1\" stroke=\"#000000\" stroke-opacity=\"1\" stroke-width=\"3.2\"/>\n",
       "<path clip-path=\"url(#clip162)\" d=\"M811.171 954.175 L810.824 953.975 L810.824 953.575 L811.171 953.375 L811.517 953.575 L811.517 953.975 Z\" fill=\"#009af9\" fill-rule=\"evenodd\" fill-opacity=\"1\" stroke=\"#000000\" stroke-opacity=\"1\" stroke-width=\"3.2\"/>\n",
       "<path clip-path=\"url(#clip162)\" d=\"M916.212 1338.08 L915.866 1337.88 L915.866 1337.48 L916.212 1337.28 L916.558 1337.48 L916.558 1337.88 Z\" fill=\"#009af9\" fill-rule=\"evenodd\" fill-opacity=\"1\" stroke=\"#000000\" stroke-opacity=\"1\" stroke-width=\"3.2\"/>\n",
       "<path clip-path=\"url(#clip162)\" d=\"M662.317 1325.32 L661.971 1325.12 L661.971 1324.72 L662.317 1324.52 L662.664 1324.72 L662.664 1325.12 Z\" fill=\"#009af9\" fill-rule=\"evenodd\" fill-opacity=\"1\" stroke=\"#000000\" stroke-opacity=\"1\" stroke-width=\"3.2\"/>\n",
       "<path clip-path=\"url(#clip162)\" d=\"M1253.86 1081.25 L1253.51 1081.05 L1253.51 1080.65 L1253.86 1080.45 L1254.2 1080.65 L1254.2 1081.05 Z\" fill=\"#009af9\" fill-rule=\"evenodd\" fill-opacity=\"1\" stroke=\"#000000\" stroke-opacity=\"1\" stroke-width=\"3.2\"/>\n",
       "<path clip-path=\"url(#clip162)\" d=\"M1737.68 519.902 L1737.34 519.702 L1737.34 519.302 L1737.68 519.102 L1738.03 519.302 L1738.03 519.702 Z\" fill=\"#009af9\" fill-rule=\"evenodd\" fill-opacity=\"1\" stroke=\"#000000\" stroke-opacity=\"1\" stroke-width=\"3.2\"/>\n",
       "<path clip-path=\"url(#clip160)\" d=\"M1436.06 273.994 L1442.74 273.994 L1442.74 250.924 L1435.47 252.382 L1435.47 248.656 L1442.7 247.197 L1446.79 247.197 L1446.79 273.994 L1453.48 273.994 L1453.48 277.437 L1436.06 277.437 L1436.06 273.994 Z\" fill=\"#000000\" fill-rule=\"evenodd\" fill-opacity=\"1\" /><path clip-path=\"url(#clip160)\" d=\"M1240.75 554.938 L1255.03 554.938 L1255.03 558.381 L1235.83 558.381 L1235.83 554.938 Q1238.16 552.528 1242.17 548.477 Q1246.2 544.406 1247.23 543.231 Q1249.2 541.023 1249.97 539.504 Q1250.76 537.965 1250.76 536.486 Q1250.76 534.076 1249.06 532.557 Q1247.38 531.038 1244.66 531.038 Q1242.74 531.038 1240.59 531.706 Q1238.46 532.375 1236.03 533.732 L1236.03 529.6 Q1238.5 528.607 1240.65 528.101 Q1242.8 527.595 1244.58 527.595 Q1249.28 527.595 1252.08 529.944 Q1254.87 532.294 1254.87 536.223 Q1254.87 538.086 1254.16 539.768 Q1253.47 541.428 1251.63 543.697 Q1251.12 544.284 1248.41 547.1 Q1245.7 549.895 1240.75 554.938 Z\" fill=\"#000000\" fill-rule=\"evenodd\" fill-opacity=\"1\" /><path clip-path=\"url(#clip160)\" d=\"M1502.16 690.631 Q1505.1 691.259 1506.74 693.244 Q1508.4 695.229 1508.4 698.145 Q1508.4 702.622 1505.32 705.073 Q1502.24 707.523 1496.57 707.523 Q1494.66 707.523 1492.64 707.138 Q1490.63 706.774 1488.49 706.024 L1488.49 702.075 Q1490.19 703.067 1492.21 703.574 Q1494.24 704.08 1496.45 704.08 Q1500.3 704.08 1502.3 702.561 Q1504.33 701.042 1504.33 698.145 Q1504.33 695.472 1502.44 693.973 Q1500.58 692.454 1497.24 692.454 L1493.71 692.454 L1493.71 689.092 L1497.4 689.092 Q1500.42 689.092 1502.02 687.897 Q1503.62 686.681 1503.62 684.413 Q1503.62 682.084 1501.96 680.848 Q1500.32 679.592 1497.24 679.592 Q1495.56 679.592 1493.63 679.957 Q1491.71 680.321 1489.4 681.091 L1489.4 677.445 Q1491.73 676.797 1493.75 676.473 Q1495.8 676.149 1497.6 676.149 Q1502.26 676.149 1504.97 678.276 Q1507.69 680.382 1507.69 683.988 Q1507.69 686.499 1506.25 688.241 Q1504.81 689.963 1502.16 690.631 Z\" fill=\"#000000\" fill-rule=\"evenodd\" fill-opacity=\"1\" /><path clip-path=\"url(#clip160)\" d=\"M1070.68 784.962 L1060.35 801.105 L1070.68 801.105 L1070.68 784.962 M1069.61 781.398 L1074.75 781.398 L1074.75 801.105 L1079.07 801.105 L1079.07 804.508 L1074.75 804.508 L1074.75 811.638 L1070.68 811.638 L1070.68 804.508 L1057.03 804.508 L1057.03 800.558 L1069.61 781.398 Z\" fill=\"#000000\" fill-rule=\"evenodd\" fill-opacity=\"1\" /><path clip-path=\"url(#clip160)\" d=\"M802.664 938.655 L818.726 938.655 L818.726 942.099 L806.411 942.099 L806.411 949.512 Q807.302 949.208 808.193 949.066 Q809.084 948.904 809.976 948.904 Q815.039 948.904 817.996 951.679 Q820.954 954.454 820.954 959.193 Q820.954 964.075 817.915 966.789 Q814.877 969.483 809.348 969.483 Q807.444 969.483 805.459 969.159 Q803.494 968.835 801.388 968.186 L801.388 964.075 Q803.211 965.067 805.155 965.553 Q807.1 966.039 809.267 966.039 Q812.771 966.039 814.817 964.196 Q816.862 962.353 816.862 959.193 Q816.862 956.034 814.817 954.191 Q812.771 952.347 809.267 952.347 Q807.626 952.347 805.986 952.712 Q804.365 953.077 802.664 953.846 L802.664 938.655 Z\" fill=\"#000000\" fill-rule=\"evenodd\" fill-opacity=\"1\" /><path clip-path=\"url(#clip160)\" d=\"M916.567 1336.05 Q913.812 1336.05 912.192 1337.94 Q910.591 1339.82 910.591 1343.1 Q910.591 1346.36 912.192 1348.27 Q913.812 1350.15 916.567 1350.15 Q919.321 1350.15 920.921 1348.27 Q922.542 1346.36 922.542 1343.1 Q922.542 1339.82 920.921 1337.94 Q919.321 1336.05 916.567 1336.05 M924.689 1323.23 L924.689 1326.96 Q923.149 1326.23 921.569 1325.84 Q920.01 1325.46 918.47 1325.46 Q914.42 1325.46 912.273 1328.19 Q910.146 1330.93 909.842 1336.46 Q911.037 1334.7 912.84 1333.76 Q914.642 1332.81 916.81 1332.81 Q921.367 1332.81 924 1335.59 Q926.653 1338.34 926.653 1343.1 Q926.653 1347.76 923.899 1350.57 Q921.144 1353.39 916.567 1353.39 Q911.321 1353.39 908.546 1349.38 Q905.771 1345.35 905.771 1337.71 Q905.771 1330.54 909.174 1326.29 Q912.576 1322.02 918.308 1322.02 Q919.848 1322.02 921.407 1322.32 Q922.987 1322.62 924.689 1323.23 Z\" fill=\"#000000\" fill-rule=\"evenodd\" fill-opacity=\"1\" /><path clip-path=\"url(#clip160)\" d=\"M652.595 1309.8 L672.039 1309.8 L672.039 1311.54 L661.061 1340.04 L656.788 1340.04 L667.118 1313.25 L652.595 1313.25 L652.595 1309.8 Z\" fill=\"#000000\" fill-rule=\"evenodd\" fill-opacity=\"1\" /><path clip-path=\"url(#clip160)\" d=\"M1253.86 1081.61 Q1250.94 1081.61 1249.26 1083.17 Q1247.6 1084.73 1247.6 1087.46 Q1247.6 1090.2 1249.26 1091.76 Q1250.94 1093.32 1253.86 1093.32 Q1256.77 1093.32 1258.45 1091.76 Q1260.14 1090.18 1260.14 1087.46 Q1260.14 1084.73 1258.45 1083.17 Q1256.79 1081.61 1253.86 1081.61 M1249.77 1079.87 Q1247.13 1079.22 1245.65 1077.42 Q1244.2 1075.61 1244.2 1073.02 Q1244.2 1069.4 1246.77 1067.29 Q1249.36 1065.18 1253.86 1065.18 Q1258.37 1065.18 1260.95 1067.29 Q1263.52 1069.4 1263.52 1073.02 Q1263.52 1075.61 1262.04 1077.42 Q1260.58 1079.22 1257.97 1079.87 Q1260.93 1080.56 1262.57 1082.56 Q1264.23 1084.57 1264.23 1087.46 Q1264.23 1091.86 1261.53 1094.21 Q1258.86 1096.56 1253.86 1096.56 Q1248.85 1096.56 1246.16 1094.21 Q1243.49 1091.86 1243.49 1087.46 Q1243.49 1084.57 1245.15 1082.56 Q1246.81 1080.56 1249.77 1079.87 M1248.27 1073.41 Q1248.27 1075.76 1249.73 1077.07 Q1251.2 1078.39 1253.86 1078.39 Q1256.49 1078.39 1257.97 1077.07 Q1259.47 1075.76 1259.47 1073.41 Q1259.47 1071.06 1257.97 1069.74 Q1256.49 1068.42 1253.86 1068.42 Q1251.2 1068.42 1249.73 1069.74 Q1248.27 1071.06 1248.27 1073.41 Z\" fill=\"#000000\" fill-rule=\"evenodd\" fill-opacity=\"1\" /><path clip-path=\"url(#clip160)\" d=\"M1729.2 533.994 L1729.2 530.267 Q1730.74 530.996 1732.32 531.381 Q1733.9 531.766 1735.41 531.766 Q1739.47 531.766 1741.59 529.052 Q1743.74 526.318 1744.04 520.768 Q1742.87 522.51 1741.07 523.441 Q1739.26 524.373 1737.08 524.373 Q1732.54 524.373 1729.88 521.639 Q1727.25 518.884 1727.25 514.124 Q1727.25 509.466 1730.01 506.65 Q1732.76 503.835 1737.34 503.835 Q1742.58 503.835 1745.34 507.866 Q1748.11 511.876 1748.11 519.532 Q1748.11 526.682 1744.71 530.956 Q1741.33 535.209 1735.6 535.209 Q1734.06 535.209 1732.48 534.906 Q1730.9 534.602 1729.2 533.994 M1737.34 521.173 Q1740.09 521.173 1741.69 519.289 Q1743.31 517.406 1743.31 514.124 Q1743.31 510.863 1741.69 508.98 Q1740.09 507.076 1737.34 507.076 Q1734.58 507.076 1732.96 508.98 Q1731.36 510.863 1731.36 514.124 Q1731.36 517.406 1732.96 519.289 Q1734.58 521.173 1737.34 521.173 Z\" fill=\"#000000\" fill-rule=\"evenodd\" fill-opacity=\"1\" /></svg>\n"
      ]
     },
     "execution_count": 10,
     "metadata": {},
     "output_type": "execute_result"
    }
   ],
   "source": [
    "borne = 2\n",
    "BestProfit, Bestsol, current_node_number, trParentnodes, trChildnodes, trNamenodes = SolveKnapInstance(\"instancesETU/KNAPnewformat/test.opb.txt\", borne)\n",
    "#BestProfit, Bestsol, current_node_number, trParentnodes, trChildnodes, trNamenodes = SolveKnapInstance(\"instancesETU/KNAPnewformat/multiple_strongly_correlated/knapPI_14_20_1000_1_-1794.opb.txt\", borne)\n",
    "println(\"\\n******\\n\\nOptimal value = \", BestProfit, \"\\n\\nOptimal x = \", Bestsol)\n",
    "graphplot(trParentnodes, trChildnodes, names=trNamenodes, method=:tree)"
   ]
  },
  {
   "cell_type": "code",
   "execution_count": 9,
   "metadata": {},
   "outputs": [
    {
     "name": "stdout",
     "output_type": "stream",
     "text": [
      "Informations du module time sur la borne 1 : \n",
      "111.982281 seconds (1.45 G allocations: 31.888 GiB, 15.71% gc time)\n",
      "Profondeur moyenne pour la borne 1 : 173267.15384615384\n",
      "\n",
      "Informations du module time sur la borne 2 : \n",
      " 90.577891 seconds (1.30 G allocations: 27.759 GiB, 17.50% gc time)\n",
      "Profondeur moyenne pour la borne 2 : 151327.23076923078\n"
     ]
    }
   ],
   "source": [
    "for (root, dirs, files) in walkdir(\"instancesETU/KNAPnewformat/test_comparision/\")\n",
    "    \n",
    "    n = length(files)\n",
    "    \n",
    "    @time begin\n",
    "    \n",
    "        borne = 1\n",
    "        sum_prof1 = 0\n",
    "        for file in files\n",
    "            _,_,current_node_number,_,_ = SolveKnapInstance(root*file, borne)\n",
    "            sum_prof1 = sum_prof1 + current_node_number\n",
    "        end\n",
    "        prof_moyenne1 = sum_prof1 / n\n",
    "    \n",
    "    println(\"Informations du module time sur la borne 1 : \")\n",
    "    end\n",
    "    \n",
    "    println(\"Profondeur moyenne pour la borne 1 : \", prof_moyenne1)\n",
    "    println(\"\")\n",
    "\n",
    "    @time begin\n",
    "    \n",
    "        borne = 2\n",
    "        sum_prof2 = 0\n",
    "        for file in files\n",
    "            _,_,current_node_number,_,_ = SolveKnapInstance(root*file, borne)\n",
    "            sum_prof2 = sum_prof2 + current_node_number\n",
    "        end\n",
    "        prof_moyenne2 = sum_prof2 / n\n",
    "        \n",
    "    println(\"Informations du module time sur la borne 2 : \")\n",
    "    end\n",
    "    println(\"Profondeur moyenne pour la borne 2 : \", prof_moyenne2)\n",
    "end"
   ]
  },
  {
   "cell_type": "markdown",
   "metadata": {},
   "source": [
    "5.\n",
    "### Interprétation\n",
    "Nous avons choisi un jeu de tests consititué de 22 fichiers (par 2 dans chaque dossier-type fourni), avec le nombre de variables allant globalement de 20 à 100 et poids, prix et capacités inférieurs à 1000.\n",
    "Ce choix constitue à notre sens un compromis entre la pertinence des données et le temps d'exécution du programme test ci-dessus.\n",
    "Nous avons ainsi obtenus les résultats suivants : utiliser la borne 2 plutôt que la 1 permet de gagner en temps d'exécution (environ 15%), en mémoire allouée (environ 10%) et en nombre de noeuds (et donc presque nécessairement en profondeur) de l'arbre engendré (environ 10%).\n",
    "Remarquons pour commencer que la mémoire allouée est essentiellement proportionnelle au nombre de noeuds. Concentrons-nous donc surtout sur les durées d'exécutions et les nombres de noeuds dans les arbres engendrés.\n",
    "En somme, les résultats ci-dessus sont cohérents. En effet, par construction, la borne 2, pour un même noeud donné, sera quasi toujours strictement inférieure à la borne 1. Le test de réalisabilité, dans le cas de la borne 2, éliminera donc plus efficacement les sous-arbres et le nombre de noeuds final sera donc plus petit que si l'on utilise la borne 1. Enfin, certes, la borne 2 est légèrement plus complexe à calculer et donc son calcul pur demande plus de temps que celui de la borne 1, mais cela est en pratique largement contrebalancé par la non-nécessité de visiter les noeuds éliminés d'emblée par la borne 2 et laissés par la borne 1. "
   ]
  }
 ],
 "metadata": {
  "colab": {
   "provenance": []
  },
  "kernelspec": {
   "display_name": "Julia 1.8.2",
   "language": "julia",
   "name": "julia-1.8"
  },
  "language_info": {
   "file_extension": ".jl",
   "mimetype": "application/julia",
   "name": "julia",
   "version": "1.8.2"
  }
 },
 "nbformat": 4,
 "nbformat_minor": 1
}

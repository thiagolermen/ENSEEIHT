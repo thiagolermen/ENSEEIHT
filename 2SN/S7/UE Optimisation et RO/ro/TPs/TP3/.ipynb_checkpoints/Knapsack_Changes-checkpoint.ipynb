{
 "cells": [
  {
   "cell_type": "markdown",
   "metadata": {
    "id": "S07UYMEuKXlt"
   },
   "source": [
    "# TP 2-3 : Branch-and-bound applied to a knapsack problem"
   ]
  },
  {
   "cell_type": "markdown",
   "metadata": {
    "id": "Zh8k_o0JKXlx"
   },
   "source": [
    "## Questions préliminaires"
   ]
  },
  {
   "cell_type": "markdown",
   "metadata": {
    "id": "rC_qfS-qKXly"
   },
   "source": [
    "##### 1) Quelle est la règle de séparation ?\n",
    "La règle de séparation utilisée est la règle de critère lexicographique, c’est-à-dire que la séparation est effectuée sur le premier objet non encore fixé (dans le sens du parcours des listes définies dans readKnaptxtInstance."
   ]
  },
  {
   "cell_type": "markdown",
   "metadata": {
    "id": "OaDc-dgnKXl0"
   },
   "source": [
    "##### 2) Quelle est la méthode du calcul de la borne supérieure ?\n",
    "Il s'agit d'un calcul de l'optimum avec une relaxation linéaire au préalable (on remplit le sac avec les objets (éventuellement leurs fractions) avec les meilleurs ratios sans que la quantité de chacun dépasse 1 (contrainte d'unicité gardée)."
   ]
  },
  {
   "cell_type": "markdown",
   "metadata": {
    "id": "x6DN1GbiKXl3"
   },
   "source": [
    "##### 3) Quels sont les tests de sondabilité TA, TO, TR ?\n",
    "- TA : le test réussit si l'appel termination_status(model) renvoie MOI.INFEASIBLE, ce qui signifie que le problème n'a pas de solutions réalisables.\n",
    "- T0 : le test réussit si le calcul de la borne supérieure, relative à un noeud donné, avec objective_value(model) renvoie un valeur qui est inférieure à une valeur réalisable déjà connue (BestProfit dans le code).\n",
    "- TR : le test réussit si la solution optimale, relative à un noeud, est entière (et avec des coefficients tous inférieurs ou égaux à 1 a priori) ; dans le code, on cosidère que c'est le cas si la différence, en valeur absolue, entre les coefficients et leurs arrondis aux entiers les plus proches est inférieure ou égle à 10<sup>-5</sup>"
   ]
  },
  {
   "cell_type": "markdown",
   "metadata": {
    "id": "h9sjU9oUKXl4"
   },
   "source": [
    "##### 4) Quelle est la stratégie d'exploration ?\n",
    "La stratégie d’exploration utilisée est la recherche en profondeur en explorant d’abord les\n",
    "noeuds à gauche, suivis par les noeuds à droite. S’il n’y a pas de noeuds à droite remonte aux\n",
    "parents pour reprendre à droite."
   ]
  },
  {
   "cell_type": "markdown",
   "metadata": {
    "id": "dbLpbf15KXmA"
   },
   "source": [
    "### Récupération des données"
   ]
  },
  {
   "cell_type": "code",
   "execution_count": 6,
   "metadata": {
    "colab": {
     "base_uri": "https://localhost:8080/",
     "height": 133
    },
    "id": "6y2jBjXSKXmB",
    "outputId": "06d88cac-1df0-4291-c51b-5d689b71dc82"
   },
   "outputs": [
    {
     "data": {
      "text/plain": [
       "readKnaptxtInstance (generic function with 1 method)"
      ]
     },
     "execution_count": 6,
     "metadata": {},
     "output_type": "execute_result"
    }
   ],
   "source": [
    "function readKnaptxtInstance(filename)\n",
    "    price=[]\n",
    "    weight=[]\n",
    "    KnapCap=[]\n",
    "    open(filename) do f\n",
    "        for i in 1:3\n",
    "            tok = split(readline(f))\n",
    "            if(tok[1] == \"ListPrices=\")\n",
    "                for i in 2:(length(tok)-1)\n",
    "                    push!(price,parse(Int64, tok[i]))\n",
    "                end\n",
    "            elseif(tok[1] == \"ListWeights=\")\n",
    "                for i in 2:(length(tok)-1)\n",
    "                    push!(weight,parse(Int64, tok[i]))\n",
    "                end\n",
    "            elseif(tok[1] == \"Capacity=\")\n",
    "                push!(KnapCap, parse(Int64, tok[2]))\n",
    "            else\n",
    "                println(\"Unknown read :\", tok)\n",
    "            end \n",
    "        end\n",
    "    end\n",
    "    capacity=KnapCap[1]\n",
    "    return price, weight, capacity\n",
    "end"
   ]
  },
  {
   "cell_type": "code",
   "execution_count": 12,
   "metadata": {},
   "outputs": [
    {
     "data": {
      "text/plain": [
       "solveKnapsackDynamic (generic function with 1 method)"
      ]
     },
     "execution_count": 12,
     "metadata": {},
     "output_type": "execute_result"
    }
   ],
   "source": [
    "function solveKnapsackDynamic(filename)\n",
    "\n",
    "    v, w, Q = readKnaptxtInstance(filename)\n",
    "    n = length(v)\n",
    "    C = zeros(n+1,Q+1) # Profit of items - Solution\n",
    "    x = zeros(n)\n",
    "\n",
    "    for i=1:n\n",
    "        for j=1:Q+1\n",
    "            if w[i] < j\n",
    "                \n",
    "                t1 = C[i, j]\n",
    "                t2 = C[i, j-w[i]] + v[i]\n",
    "                \n",
    "                if t1 < t2\n",
    "                    C[i+1, j] = t2\n",
    "                    x[i] = 1\n",
    "                else\n",
    "                    C[i+1, j] = C[i, j]\n",
    "                end\n",
    "                \n",
    "            else\n",
    "                C[i+1, j] = C[i, j]\n",
    "            end\n",
    "        end\n",
    "    end\n",
    "\n",
    "    display(\"text/plain\", C)\n",
    "    display(\"text/plain\", x)\n",
    "end\n"
   ]
  },
  {
   "cell_type": "code",
   "execution_count": 13,
   "metadata": {},
   "outputs": [],
   "source": [
    "# if ((j >= W[i-1]) && (B[i][j] < B[i - 1][j - W[i - 1]] + V[i - 1])) {\n",
    "# \t\t\t\tB[i][j] = B[i - 1][j - W[i - 1]] + V[i - 1]; \n",
    "# \t\t\t}"
   ]
  },
  {
   "cell_type": "code",
   "execution_count": 14,
   "metadata": {
    "scrolled": true
   },
   "outputs": [
    {
     "data": {
      "text/plain": [
       "51×996 Matrix{Float64}:\n",
       " 0.0  0.0  0.0  0.0  0.0  0.0  0.0  0.0  …     0.0     0.0     0.0     0.0\n",
       " 0.0  0.0  0.0  0.0  0.0  0.0  0.0  0.0      585.0   585.0   585.0   585.0\n",
       " 0.0  0.0  0.0  0.0  0.0  0.0  0.0  0.0     1011.0  1011.0  1011.0  1011.0\n",
       " 0.0  0.0  0.0  0.0  0.0  0.0  0.0  0.0     1011.0  1011.0  1011.0  1011.0\n",
       " 0.0  0.0  0.0  0.0  0.0  0.0  0.0  0.0     1106.0  1106.0  1106.0  1294.0\n",
       " 0.0  0.0  0.0  0.0  0.0  0.0  0.0  0.0  …  1291.0  1291.0  1291.0  1294.0\n",
       " 0.0  0.0  0.0  0.0  0.0  0.0  0.0  0.0     1291.0  1291.0  1291.0  1294.0\n",
       " 0.0  0.0  0.0  0.0  0.0  0.0  0.0  0.0     1338.0  1338.0  1338.0  1338.0\n",
       " 0.0  0.0  0.0  0.0  0.0  0.0  0.0  0.0     1338.0  1338.0  1338.0  1338.0\n",
       " 0.0  0.0  0.0  0.0  0.0  0.0  0.0  0.0     1338.0  1338.0  1338.0  1338.0\n",
       " 0.0  0.0  0.0  0.0  0.0  0.0  0.0  0.0  …  1363.0  1363.0  1363.0  1363.0\n",
       " 0.0  0.0  0.0  0.0  0.0  0.0  0.0  0.0     1471.0  1471.0  1471.0  1471.0\n",
       " 0.0  0.0  0.0  0.0  0.0  0.0  0.0  0.0     1471.0  1471.0  1471.0  1471.0\n",
       " ⋮                        ⋮              ⋱                             ⋮\n",
       " 0.0  0.0  0.0  0.0  0.0  0.0  0.0  0.0     2078.0  2078.0  2078.0  2096.0\n",
       " 0.0  0.0  0.0  0.0  0.0  0.0  0.0  0.0  …  2078.0  2078.0  2078.0  2096.0\n",
       " 0.0  0.0  0.0  0.0  0.0  0.0  0.0  0.0     2078.0  2078.0  2078.0  2096.0\n",
       " 0.0  0.0  0.0  0.0  0.0  0.0  0.0  0.0     2078.0  2078.0  2078.0  2096.0\n",
       " 0.0  0.0  0.0  0.0  0.0  0.0  0.0  0.0     2078.0  2078.0  2078.0  2096.0\n",
       " 0.0  0.0  0.0  0.0  0.0  0.0  0.0  0.0     2078.0  2078.0  2078.0  2096.0\n",
       " 0.0  0.0  0.0  0.0  0.0  0.0  0.0  0.0  …  2078.0  2078.0  2078.0  2096.0\n",
       " 0.0  0.0  0.0  0.0  0.0  0.0  0.0  0.0     2078.0  2078.0  2078.0  2096.0\n",
       " 0.0  0.0  0.0  0.0  0.0  0.0  0.0  0.0     2078.0  2078.0  2078.0  2096.0\n",
       " 0.0  0.0  0.0  0.0  0.0  0.0  0.0  0.0     2078.0  2078.0  2078.0  2096.0\n",
       " 0.0  0.0  0.0  0.0  0.0  0.0  0.0  0.0     2093.0  2094.0  2095.0  2096.0\n",
       " 0.0  0.0  0.0  0.0  0.0  0.0  0.0  0.0  …  2093.0  2094.0  2095.0  2096.0"
      ]
     },
     "metadata": {},
     "output_type": "display_data"
    },
    {
     "data": {
      "text/plain": [
       "50-element Vector{Float64}:\n",
       " 1.0\n",
       " 1.0\n",
       " 1.0\n",
       " 1.0\n",
       " 1.0\n",
       " 0.0\n",
       " 1.0\n",
       " 0.0\n",
       " 0.0\n",
       " 1.0\n",
       " 1.0\n",
       " 0.0\n",
       " 1.0\n",
       " ⋮\n",
       " 1.0\n",
       " 0.0\n",
       " 0.0\n",
       " 0.0\n",
       " 0.0\n",
       " 0.0\n",
       " 1.0\n",
       " 0.0\n",
       " 0.0\n",
       " 0.0\n",
       " 1.0\n",
       " 0.0"
      ]
     },
     "metadata": {},
     "output_type": "display_data"
    }
   ],
   "source": [
    "solveKnapsackDynamic(\"instancesETU/KNAPnewformat/almost_strongly_correlated/knapPI_5_50_1000_1_-2096.opb.txt\")"
   ]
  },
  {
   "cell_type": "code",
   "execution_count": 121,
   "metadata": {},
   "outputs": [],
   "source": [
    "# function solveKnapsackDynamic(filename)\n",
    "\n",
    "#     v, w, Q = readKnaptxtInstance(filename)\n",
    "#     n = length(v)\n",
    "#     x = zeros(n)\n",
    "#     C = zeros(n,Q) # Profit of items - Solution\n",
    "\n",
    "#     for i=2:n\n",
    "#         for j=1:Q\n",
    "#             if w[i-1] < j\n",
    "#                 t1 = C[i-1, j]\n",
    "#                 t2 = C[i-1, j-w[i-1]] + v[i-1]\n",
    "# #                 if t1 <= t2\n",
    "# #                     C[i, j] = t2\n",
    "# #                     x[i] = 1.0\n",
    "# #                 else\n",
    "# #                     C[i, j] = t1\n",
    "# #                 end\n",
    "#                 C[i, j] = max(t1, t2)\n",
    "#                 #println(C[i, j])\n",
    "#             end\n",
    "#         end\n",
    "#     end\n",
    "#     display(\"text/plain\", x)\n",
    "#     display(\"text/plain\", C)\n",
    "\n",
    "# end"
   ]
  }
 ],
 "metadata": {
  "colab": {
   "provenance": []
  },
  "kernelspec": {
   "display_name": "Julia 1.8.2",
   "language": "julia",
   "name": "julia-1.8"
  },
  "language_info": {
   "file_extension": ".jl",
   "mimetype": "application/julia",
   "name": "julia",
   "version": "1.8.2"
  }
 },
 "nbformat": 4,
 "nbformat_minor": 1
}

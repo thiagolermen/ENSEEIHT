{
 "cells": [
  {
   "cell_type": "markdown",
   "metadata": {
    "id": "S07UYMEuKXlt"
   },
   "source": [
    "# TP 3 : Dynamic programming applied to a knapsack problem"
   ]
  },
  {
   "cell_type": "markdown",
   "metadata": {
    "id": "dbLpbf15KXmA"
   },
   "source": [
    "### Récupération des données"
   ]
  },
  {
   "cell_type": "code",
   "execution_count": 44,
   "metadata": {
    "colab": {
     "base_uri": "https://localhost:8080/",
     "height": 133
    },
    "id": "6y2jBjXSKXmB",
    "outputId": "06d88cac-1df0-4291-c51b-5d689b71dc82"
   },
   "outputs": [
    {
     "data": {
      "text/plain": [
       "readKnaptxtInstance (generic function with 1 method)"
      ]
     },
     "execution_count": 44,
     "metadata": {},
     "output_type": "execute_result"
    }
   ],
   "source": [
    "function readKnaptxtInstance(filename)\n",
    "    price=[]\n",
    "    weight=[]\n",
    "    KnapCap=[]\n",
    "    open(filename) do f\n",
    "        for i in 1:3\n",
    "            tok = split(readline(f))\n",
    "            if(tok[1] == \"ListPrices=\")\n",
    "                for i in 2:(length(tok)-1)\n",
    "                    push!(price,parse(Int64, tok[i]))\n",
    "                end\n",
    "            elseif(tok[1] == \"ListWeights=\")\n",
    "                for i in 2:(length(tok)-1)\n",
    "                    push!(weight,parse(Int64, tok[i]))\n",
    "                end\n",
    "            elseif(tok[1] == \"Capacity=\")\n",
    "                push!(KnapCap, parse(Int64, tok[2]))\n",
    "            else\n",
    "                println(\"Unknown read :\", tok)\n",
    "            end \n",
    "        end\n",
    "    end\n",
    "    capacity=KnapCap[1]\n",
    "    return price, weight, capacity\n",
    "end"
   ]
  },
  {
   "cell_type": "markdown",
   "metadata": {},
   "source": [
    "### Algorithme"
   ]
  },
  {
   "cell_type": "code",
   "execution_count": 45,
   "metadata": {},
   "outputs": [
    {
     "data": {
      "text/plain": [
       "getSolution (generic function with 1 method)"
      ]
     },
     "execution_count": 45,
     "metadata": {},
     "output_type": "execute_result"
    }
   ],
   "source": [
    "function getSolution(C, Q, w, n)\n",
    "    weight = Q\n",
    "    x = zeros(n)\n",
    "    # We get the same path in the reverse \n",
    "    # way to retrieve the chosen values of X\n",
    "    for i=n:-1:1\n",
    "        # Check if the profit was modified when X[i] was chosen, \n",
    "        # update the vector of solution X and update the current weight\n",
    "        if C[i+1, weight+1] != C[i, weight+1]\n",
    "            x[i] = 1\n",
    "            weight -= w[i];\n",
    "        else\n",
    "            x[i] = 0\n",
    "        end\n",
    "    end\n",
    "    return x\n",
    "end"
   ]
  },
  {
   "cell_type": "code",
   "execution_count": 52,
   "metadata": {},
   "outputs": [
    {
     "data": {
      "text/plain": [
       "solveKnapsackDynamic (generic function with 1 method)"
      ]
     },
     "execution_count": 52,
     "metadata": {},
     "output_type": "execute_result"
    }
   ],
   "source": [
    "function solveKnapsackDynamic(filename)\n",
    "\n",
    "    v, w, Q = readKnaptxtInstance(filename) # Read the file\n",
    "    n = length(v) # Number of items\n",
    "    C = zeros(n+1,Q+1) # Profit of items (cost) - Solution\n",
    "    \n",
    "    # For each object\n",
    "    for i=1:n\n",
    "        # For each value of capacity\n",
    "        for j=1:Q+1\n",
    "            # Check if the weight of the current item \n",
    "            # is smaller than the remaining capacity\n",
    "            if w[i] < j\n",
    "                \n",
    "                # We define these variables to avoid redundant calculations\n",
    "                t1 = C[i, j]\n",
    "                t2 = C[i, j-w[i]] + v[i] # That's why we use the if-else structure of control\n",
    "                \n",
    "                # If the current profit is better, update the solution\n",
    "                if t1 < t2\n",
    "                    C[i+1, j] = t2\n",
    "                else\n",
    "                    C[i+1, j] = C[i, j]\n",
    "                end\n",
    "            \n",
    "            # Else keep the same solution for the next iteration\n",
    "            else\n",
    "                C[i+1, j] = C[i, j]\n",
    "            end\n",
    "        end\n",
    "    end\n",
    "    \n",
    "    x = getSolution(C, Q, w, n)\n",
    "    \n",
    "    # The function returns the vector of solutions and the value of the objective function\n",
    "    return x, C[n+1, Q+1]\n",
    "\n",
    "    \n",
    "end\n"
   ]
  },
  {
   "cell_type": "markdown",
   "metadata": {},
   "source": [
    "### Questions"
   ]
  },
  {
   "cell_type": "markdown",
   "metadata": {},
   "source": [
    "#### Donner une courte argumentation de l'adéquation du résultat avec l'instance résolue\n",
    "\n",
    "Il faut vérifier que 1) la valeur de l'élément à la dernière ligne et la dernière colonne de la matrice des coûts (C ici) est égale à la valeur de la fonction-objectif (indiquée dans les noms des fichiers tests), et que 2) la somme des poids des éléments sélectionnés est inférieure à la capacité totale.\n",
    "\n",
    "Par exemple, sur l'exemple de base, on vérifie bien qu'on a C[n+1, Q+1] == 65.0 avec 65 la valeur de la fonction-objectif et sum(x .* w) = x[2]*w[2] + x[4]*w[4] = 4.0 + 5.0 == 9.0 <= 10.0 avec 10 la capacité maximale."
   ]
  },
  {
   "cell_type": "code",
   "execution_count": 53,
   "metadata": {
    "scrolled": false
   },
   "outputs": [
    {
     "data": {
      "text/plain": [
       "([0.0, 1.0, 0.0, 1.0], 65.0)"
      ]
     },
     "execution_count": 53,
     "metadata": {},
     "output_type": "execute_result"
    }
   ],
   "source": [
    "x, C = solveKnapsackDynamic(\"instancesETU/KNAPnewformat/test.opb.txt\")"
   ]
  },
  {
   "cell_type": "markdown",
   "metadata": {},
   "source": [
    "#### Expliquer le fonctionnement de votre algorithme\n",
    "\n",
    "Dans un premier temps, nous définissons un tableau de coûts C dont la taille est définie sur n+1 et Q+1, où n est le nombre d’objets disponibles et Q est la capacité totale. Pour tout i dans [1, n+1] et pour tout j dans [1, Q+1], C[i,j] représentera en fait le coût maximal des objets que l’on peut transporter si le poids maximal permis est j et que les objets que l’on peut inclure sont ceux numérotés de 1 à i. \n",
    "Ensuite, d'une part, nous savons que pour tout i dans [1, n+1], C[i,0] = 0 et d'autre part nous avons une relation de récurrence (donnée dans le sujet) qui permet, en connaissant la solution d'un problème de relativement petite taille de connaître la solution d'un problème d'une taille relativement un peu plus grande.\n",
    "Ainsi, par principe de récurrence, nous pouvons compléter toute la matrice C, afin d'arriver à connaître la valeur de l'élément C[n+1, Q+1] qui correspond à la solution du problème à résoudre.\n",
    "\n",
    "Pour des détails  plus concrets de l'implantation nous vous invitons à consulter les commentaires du code."
   ]
  },
  {
   "cell_type": "markdown",
   "metadata": {},
   "source": [
    "#### Tester l'algorithme sur pluseurs instances de tailles différentes fournies dans le TP2, donner les solutions obtenues et les valeurs de fonction-objectif. Comparer avec celles obtenues avec le branch-and-bound implémenté lors des TP2\n",
    "\n",
    "En comparant les résultats des tests effectués à l’aide de la programmation dynamique et de l’algorithme branch-and-bound, on constate que l’utilisation de la programmation dynamique est plus rapide. Alors que pour l’algorithme branch-and-bound utilisant le borne 1, le temps d’exécution était de 111,98 secondes et en utilisant le borne 2 était de 90,57 secondes, pour les mêmes problèmes en utilisant la programmation dynamique, le temps d’exécution était de 3,22 secondes. En outre, l’allocation de mémoire a également été inférieure (65,85 M pour la programmation dynamique et 1,45 G et 1,30 G pour les bornes 1 et 2 en utilisant respectivement la branche et la branche).\n",
    "\n",
    "Avec cela, nous pouvons conclure que la programmation dynamique semble être beaucoup plus efficace pour le problème du sac à dos que l'algorithme du branch-and-bound. \n",
    "\n",
    "Enfin, la question demandant les valeurs de la fonction objectif et les vecteurs solutions, nous avons fait le choix de ne pas modifier le code du TP2 (sur l'algorithme du branch-and-bound) et de ne fournir ces valeurs que pour la programmation dynamique (c'est après tout précisément ce dernier algorithme qui fait l'objet du present TP)."
   ]
  },
  {
   "cell_type": "code",
   "execution_count": 54,
   "metadata": {
    "scrolled": true
   },
   "outputs": [
    {
     "name": "stdout",
     "output_type": "stream",
     "text": [
      "File: knapPI_11_20_1000_1_-1428.opb.txt\n",
      "Solution X: [0.0, 0.0, 0.0, 0.0, 0.0, 0.0, 1.0, 0.0, 0.0, 1.0, 0.0, 0.0, 0.0, 0.0, 0.0, 0.0, 0.0, 0.0, 0.0, 0.0]\n",
      "Solution Cout: 1428.0\n",
      " \n",
      "File: knapPI_11_50_1000_1_-1428.opb.txt\n",
      "Solution X: [0.0, 0.0, 0.0, 0.0, 0.0, 0.0, 1.0, 0.0, 0.0, 1.0, 0.0, 0.0, 0.0, 0.0, 0.0, 0.0, 0.0, 0.0, 0.0, 0.0, 0.0, 0.0, 0.0, 0.0, 0.0, 0.0, 0.0, 0.0, 0.0, 0.0, 0.0, 0.0, 0.0, 0.0, 0.0, 0.0, 0.0, 0.0, 0.0, 0.0, 0.0, 0.0, 0.0, 0.0, 0.0, 0.0, 0.0, 0.0, 0.0, 0.0]\n",
      "Solution Cout: 1428.0\n",
      " \n",
      "File: knapPI_12_20_1000_1_-970.opb.txt\n",
      "Solution X: [1.0, 0.0, 0.0, 0.0, 0.0, 0.0, 0.0, 0.0, 0.0, 0.0, 0.0, 1.0, 0.0, 0.0, 0.0, 0.0, 0.0, 0.0, 0.0, 0.0]\n",
      "Solution Cout: 970.0\n",
      " \n",
      "File: knapPI_12_50_1000_1_-970.opb.txt\n",
      "Solution X: [1.0, 0.0, 0.0, 0.0, 0.0, 0.0, 0.0, 0.0, 0.0, 0.0, 0.0, 1.0, 0.0, 0.0, 0.0, 0.0, 0.0, 0.0, 0.0, 0.0, 0.0, 0.0, 0.0, 0.0, 0.0, 0.0, 0.0, 0.0, 0.0, 0.0, 0.0, 0.0, 0.0, 0.0, 0.0, 0.0, 0.0, 0.0, 0.0, 0.0, 0.0, 0.0, 0.0, 0.0, 0.0, 0.0, 0.0, 0.0, 0.0, 0.0]\n",
      "Solution Cout: 970.0\n",
      " \n",
      "File: knapPI_13_20_1000_1_-1716.opb.txt\n",
      "Solution X: [1.0, 1.0, 0.0, 0.0, 0.0, 1.0, 0.0, 0.0, 1.0, 1.0, 1.0, 1.0, 0.0, 0.0, 1.0, 0.0, 1.0, 0.0, 0.0, 0.0]\n",
      "Solution Cout: 1716.0\n",
      " \n",
      "File: knapPI_13_50_1000_1_-1989.opb.txt\n",
      "Solution X: [1.0, 1.0, 0.0, 0.0, 0.0, 0.0, 0.0, 0.0, 1.0, 1.0, 1.0, 1.0, 0.0, 0.0, 1.0, 0.0, 1.0, 0.0, 0.0, 0.0, 0.0, 0.0, 0.0, 0.0, 0.0, 0.0, 0.0, 0.0, 0.0, 0.0, 0.0, 1.0, 0.0, 0.0, 0.0, 0.0, 0.0, 0.0, 0.0, 0.0, 0.0, 0.0, 0.0, 0.0, 0.0, 0.0, 0.0, 0.0, 0.0, 0.0]\n",
      "Solution Cout: 1989.0\n",
      " \n",
      "File: knapPI_14_20_1000_1_-1794.opb.txt\n",
      "Solution X: [0.0, 0.0, 1.0, 0.0, 0.0, 1.0, 0.0, 0.0, 0.0, 0.0, 0.0, 0.0, 0.0, 0.0, 1.0, 0.0, 1.0, 0.0, 0.0, 0.0]\n",
      "Solution Cout: 1794.0\n",
      " \n",
      "File: knapPI_14_50_1000_1_-2586.opb.txt\n",
      "Solution X: [1.0, 0.0, 0.0, 0.0, 0.0, 0.0, 0.0, 0.0, 0.0, 0.0, 0.0, 0.0, 0.0, 0.0, 1.0, 0.0, 0.0, 0.0, 0.0, 0.0, 0.0, 1.0, 0.0, 0.0, 0.0, 0.0, 0.0, 0.0, 0.0, 1.0, 0.0, 1.0, 0.0, 0.0, 0.0, 0.0, 0.0, 0.0, 0.0, 0.0, 0.0, 0.0, 1.0, 0.0, 1.0, 1.0, 0.0, 0.0, 0.0, 0.0]\n",
      "Solution Cout: 2586.0\n",
      " \n",
      "File: knapPI_15_20_1000_1_-999.opb.txt\n",
      "Solution X: [0.0, 0.0, 1.0, 0.0, 0.0, 1.0, 0.0, 0.0, 0.0, 0.0, 0.0, 0.0, 0.0, 0.0, 1.0, 0.0, 1.0, 0.0, 0.0, 0.0]\n",
      "Solution Cout: 999.0\n",
      " \n",
      "File: knapPI_15_50_1000_1_-1005.opb.txt\n",
      "Solution X: [1.0, 0.0, 0.0, 0.0, 0.0, 0.0, 0.0, 0.0, 0.0, 0.0, 0.0, 0.0, 0.0, 0.0, 1.0, 0.0, 0.0, 0.0, 0.0, 0.0, 0.0, 0.0, 0.0, 1.0, 0.0, 0.0, 0.0, 0.0, 0.0, 1.0, 0.0, 0.0, 0.0, 0.0, 0.0, 0.0, 0.0, 0.0, 0.0, 0.0, 0.0, 0.0, 0.0, 0.0, 0.0, 0.0, 0.0, 0.0, 0.0, 0.0]\n",
      "Solution Cout: 1005.0\n",
      " \n",
      "File: knapPI_16_20_1000_1_-2291.opb.txt\n",
      "Solution X: [0.0, 0.0, 1.0, 0.0, 0.0, 1.0, 0.0, 0.0, 0.0, 0.0, 0.0, 0.0, 0.0, 0.0, 1.0, 0.0, 1.0, 0.0, 0.0, 0.0]\n",
      "Solution Cout: 2291.0\n",
      " \n",
      "File: knapPI_16_50_1000_1_-3408.opb.txt\n",
      "Solution X: [1.0, 0.0, 0.0, 0.0, 0.0, 0.0, 0.0, 0.0, 0.0, 0.0, 0.0, 0.0, 0.0, 0.0, 1.0, 0.0, 0.0, 0.0, 0.0, 0.0, 0.0, 1.0, 0.0, 0.0, 0.0, 0.0, 0.0, 0.0, 0.0, 1.0, 0.0, 1.0, 0.0, 0.0, 0.0, 0.0, 0.0, 0.0, 0.0, 0.0, 0.0, 0.0, 1.0, 0.0, 1.0, 1.0, 0.0, 0.0, 0.0, 0.0]\n",
      "Solution Cout: 3408.0\n",
      " \n",
      "File: knapPI_1_100_1000_1_-9147.opb.txt\n",
      "Solution X: [0.0, 0.0, 0.0, 0.0, 0.0, 0.0, 1.0, 0.0, 0.0, 0.0, 1.0, 0.0, 0.0, 1.0, 0.0, 0.0, 0.0, 0.0, 0.0, 0.0, 0.0, 0.0, 0.0, 1.0, 0.0, 1.0, 0.0, 0.0, 0.0, 0.0, 1.0, 0.0, 1.0, 0.0, 0.0, 0.0, 0.0, 1.0, 1.0, 0.0, 0.0, 0.0, 0.0, 0.0, 0.0, 0.0, 0.0, 0.0, 1.0, 0.0, 0.0, 0.0, 0.0, 1.0, 0.0, 0.0, 0.0, 0.0, 0.0, 0.0, 1.0, 0.0, 0.0, 0.0, 0.0, 0.0, 0.0, 0.0, 0.0, 0.0, 0.0, 0.0, 0.0, 0.0, 0.0, 0.0, 0.0, 0.0, 0.0, 0.0, 0.0, 0.0, 0.0, 0.0, 0.0, 0.0, 0.0, 0.0, 0.0, 0.0, 0.0, 0.0, 0.0, 0.0, 0.0, 0.0, 0.0, 0.0, 0.0, 0.0]\n",
      "Solution Cout: 9147.0\n",
      " \n",
      "File: knapPI_1_50_1000_1_-8373.opb.txt\n",
      "Solution X: [0.0, 0.0, 0.0, 0.0, 0.0, 0.0, 1.0, 0.0, 0.0, 0.0, 1.0, 0.0, 1.0, 1.0, 0.0, 0.0, 0.0, 0.0, 0.0, 0.0, 0.0, 0.0, 0.0, 1.0, 0.0, 1.0, 0.0, 0.0, 0.0, 0.0, 1.0, 0.0, 1.0, 0.0, 0.0, 0.0, 0.0, 1.0, 1.0, 0.0, 0.0, 0.0, 0.0, 0.0, 0.0, 0.0, 0.0, 0.0, 1.0, 0.0]\n",
      "Solution Cout: 8373.0\n",
      " \n",
      "File: knapPI_2_100_1000_1_-1514.opb.txt\n",
      "Solution X: [0.0, 0.0, 0.0, 0.0, 0.0, 0.0, 0.0, 0.0, 0.0, 0.0, 1.0, 0.0, 0.0, 0.0, 0.0, 0.0, 0.0, 0.0, 0.0, 0.0, 0.0, 0.0, 0.0, 1.0, 0.0, 0.0, 0.0, 0.0, 0.0, 0.0, 0.0, 0.0, 1.0, 0.0, 0.0, 0.0, 0.0, 1.0, 0.0, 0.0, 0.0, 0.0, 0.0, 0.0, 1.0, 0.0, 0.0, 0.0, 1.0, 0.0, 0.0, 0.0, 0.0, 0.0, 0.0, 0.0, 1.0, 0.0, 0.0, 0.0, 0.0, 0.0, 0.0, 0.0, 0.0, 0.0, 0.0, 0.0, 0.0, 0.0, 1.0, 0.0, 0.0, 0.0, 0.0, 0.0, 0.0, 0.0, 0.0, 0.0, 0.0, 0.0, 0.0, 0.0, 1.0, 0.0, 0.0, 0.0, 0.0, 0.0, 0.0, 0.0, 0.0, 0.0, 0.0, 0.0, 0.0, 0.0, 0.0, 0.0]\n",
      "Solution Cout: 1514.0\n",
      " \n",
      "File: knapPI_2_50_1000_1_-1396.opb.txt\n",
      "Solution X: [0.0, 0.0, 0.0, 1.0, 0.0, 0.0, 0.0, 0.0, 0.0, 0.0, 0.0, 0.0, 0.0, 0.0, 0.0, 0.0, 0.0, 0.0, 0.0, 0.0, 0.0, 0.0, 0.0, 1.0, 0.0, 0.0, 0.0, 0.0, 0.0, 0.0, 0.0, 0.0, 1.0, 0.0, 0.0, 0.0, 1.0, 1.0, 0.0, 0.0, 0.0, 0.0, 0.0, 0.0, 1.0, 0.0, 0.0, 0.0, 0.0, 0.0]\n",
      "Solution Cout: 1396.0\n",
      " \n",
      "File: knapPI_3_100_1000_1_-2397.opb.txt\n",
      "Solution X: [0.0, 1.0, 0.0, 0.0, 0.0, 0.0, 0.0, 0.0, 0.0, 0.0, 0.0, 0.0, 1.0, 0.0, 0.0, 0.0, 0.0, 0.0, 0.0, 0.0, 1.0, 0.0, 0.0, 0.0, 0.0, 0.0, 1.0, 0.0, 0.0, 1.0, 0.0, 0.0, 0.0, 0.0, 0.0, 0.0, 0.0, 0.0, 0.0, 0.0, 0.0, 0.0, 0.0, 0.0, 0.0, 0.0, 1.0, 0.0, 0.0, 0.0, 1.0, 0.0, 0.0, 0.0, 0.0, 0.0, 0.0, 0.0, 0.0, 0.0, 0.0, 0.0, 0.0, 0.0, 1.0, 0.0, 0.0, 0.0, 0.0, 0.0, 1.0, 0.0, 0.0, 0.0, 1.0, 0.0, 1.0, 0.0, 0.0, 0.0, 0.0, 0.0, 0.0, 0.0, 0.0, 1.0, 0.0, 0.0, 0.0, 1.0, 0.0, 0.0, 0.0, 0.0, 0.0, 0.0, 1.0, 0.0, 0.0, 0.0]\n",
      "Solution Cout: 2397.0\n",
      " \n",
      "File: knapPI_3_50_1000_1_-1894.opb.txt\n",
      "Solution X: [0.0, 1.0, 0.0, 0.0, 0.0, 0.0, 0.0, 0.0, 0.0, 0.0, 0.0, 0.0, 1.0, 0.0, 0.0, 0.0, 0.0, 0.0, 0.0, 1.0, 1.0, 0.0, 0.0, 0.0, 1.0, 0.0, 1.0, 0.0, 0.0, 1.0, 0.0, 0.0, 0.0, 0.0, 0.0, 0.0, 0.0, 0.0, 0.0, 0.0, 0.0, 0.0, 0.0, 1.0, 0.0, 0.0, 1.0, 0.0, 0.0, 0.0]\n",
      "Solution Cout: 1894.0\n",
      " \n",
      "File: knapPI_4_100_1000_1_-997.opb.txt\n",
      "Solution X: [0.0, 0.0, 0.0, 0.0, 0.0, 0.0, 0.0, 0.0, 0.0, 0.0, 0.0, 0.0, 0.0, 0.0, 0.0, 0.0, 0.0, 0.0, 0.0, 0.0, 0.0, 0.0, 0.0, 0.0, 0.0, 0.0, 0.0, 0.0, 0.0, 0.0, 0.0, 0.0, 0.0, 0.0, 0.0, 0.0, 0.0, 0.0, 0.0, 0.0, 0.0, 0.0, 0.0, 0.0, 0.0, 0.0, 0.0, 0.0, 0.0, 0.0, 0.0, 0.0, 0.0, 0.0, 0.0, 0.0, 0.0, 0.0, 0.0, 0.0, 0.0, 1.0, 0.0, 0.0, 0.0, 0.0, 0.0, 0.0, 0.0, 0.0, 0.0, 0.0, 0.0, 0.0, 0.0, 0.0, 0.0, 0.0, 0.0, 0.0, 0.0, 0.0, 0.0, 0.0, 0.0, 0.0, 0.0, 0.0, 0.0, 0.0, 0.0, 0.0, 0.0, 0.0, 0.0, 0.0, 0.0, 0.0, 0.0, 0.0]\n",
      "Solution Cout: 997.0\n",
      " \n",
      "File: knapPI_4_50_1000_1_-994.opb.txt\n",
      "Solution X: [0.0, 0.0, 0.0, 0.0, 0.0, 0.0, 0.0, 0.0, 0.0, 0.0, 0.0, 0.0, 0.0, 0.0, 0.0, 0.0, 0.0, 0.0, 0.0, 0.0, 0.0, 0.0, 0.0, 0.0, 0.0, 0.0, 0.0, 0.0, 0.0, 0.0, 0.0, 0.0, 0.0, 0.0, 0.0, 0.0, 0.0, 1.0, 0.0, 0.0, 0.0, 0.0, 0.0, 0.0, 0.0, 0.0, 0.0, 0.0, 0.0, 0.0]\n",
      "Solution Cout: 994.0\n",
      " \n",
      "File: knapPI_5_100_1000_1_-2295.opb.txt\n",
      "Solution X: [0.0, 0.0, 0.0, 0.0, 0.0, 0.0, 1.0, 0.0, 0.0, 0.0, 1.0, 0.0, 0.0, 0.0, 0.0, 0.0, 0.0, 0.0, 0.0, 0.0, 0.0, 0.0, 0.0, 1.0, 0.0, 0.0, 0.0, 0.0, 0.0, 0.0, 0.0, 0.0, 1.0, 0.0, 0.0, 1.0, 1.0, 1.0, 1.0, 0.0, 0.0, 0.0, 0.0, 0.0, 0.0, 0.0, 0.0, 0.0, 1.0, 0.0, 0.0, 0.0, 0.0, 1.0, 0.0, 0.0, 0.0, 0.0, 0.0, 0.0, 1.0, 0.0, 0.0, 0.0, 0.0, 0.0, 0.0, 0.0, 0.0, 0.0, 1.0, 0.0, 0.0, 0.0, 0.0, 0.0, 0.0, 0.0, 0.0, 0.0, 0.0, 0.0, 1.0, 0.0, 0.0, 0.0, 0.0, 0.0, 0.0, 0.0, 0.0, 0.0, 0.0, 0.0, 0.0, 0.0, 0.0, 0.0, 0.0, 0.0]\n",
      "Solution Cout: 2295.0\n",
      " \n",
      "File: knapPI_5_50_1000_1_-2096.opb.txt\n",
      "Solution X: [0.0, 0.0, 0.0, 0.0, 0.0, 0.0, 1.0, 0.0, 0.0, 0.0, 1.0, 0.0, 0.0, 1.0, 0.0, 0.0, 0.0, 0.0, 0.0, 0.0, 0.0, 0.0, 0.0, 1.0, 0.0, 1.0, 0.0, 1.0, 0.0, 0.0, 0.0, 0.0, 1.0, 0.0, 0.0, 1.0, 1.0, 1.0, 1.0, 0.0, 0.0, 0.0, 0.0, 0.0, 0.0, 0.0, 0.0, 0.0, 0.0, 0.0]\n",
      "Solution Cout: 2096.0\n",
      " \n",
      "File: knapPI_6_100_1000_1_-997.opb.txt\n",
      "Solution X: [0.0, 1.0, 0.0, 0.0, 0.0, 0.0, 0.0, 0.0, 0.0, 0.0, 0.0, 0.0, 0.0, 1.0, 0.0, 0.0, 0.0, 1.0, 0.0, 0.0, 0.0, 0.0, 0.0, 0.0, 0.0, 0.0, 0.0, 0.0, 0.0, 0.0, 0.0, 0.0, 0.0, 0.0, 0.0, 0.0, 0.0, 0.0, 0.0, 0.0, 0.0, 0.0, 0.0, 0.0, 0.0, 0.0, 0.0, 0.0, 0.0, 0.0, 0.0, 0.0, 0.0, 0.0, 0.0, 0.0, 0.0, 0.0, 0.0, 0.0, 0.0, 0.0, 0.0, 0.0, 0.0, 0.0, 0.0, 0.0, 0.0, 0.0, 0.0, 0.0, 0.0, 0.0, 0.0, 0.0, 0.0, 0.0, 0.0, 0.0, 0.0, 0.0, 0.0, 0.0, 0.0, 0.0, 0.0, 0.0, 0.0, 0.0, 0.0, 0.0, 0.0, 0.0, 0.0, 0.0, 0.0, 0.0, 0.0, 0.0]\n",
      "Solution Cout: 997.0\n",
      " \n",
      "File: knapPI_6_50_1000_1_-994.opb.txt\n",
      "Solution X: [0.0, 0.0, 1.0, 0.0, 0.0, 1.0, 0.0, 0.0, 0.0, 0.0, 0.0, 0.0, 0.0, 0.0, 0.0, 0.0, 0.0, 0.0, 1.0, 0.0, 0.0, 0.0, 0.0, 0.0, 0.0, 0.0, 0.0, 0.0, 0.0, 0.0, 0.0, 0.0, 0.0, 0.0, 0.0, 0.0, 0.0, 0.0, 0.0, 0.0, 0.0, 0.0, 0.0, 0.0, 0.0, 0.0, 0.0, 0.0, 0.0, 0.0]\n",
      "Solution Cout: 994.0\n",
      " \n"
     ]
    },
    {
     "name": "stdout",
     "output_type": "stream",
     "text": [
      "File: knapPI_9_100_1000_1_-995.opb.txt\n",
      "Solution X: [0.0, 0.0, 0.0, 0.0, 0.0, 0.0, 0.0, 0.0, 0.0, 0.0, 0.0, 0.0, 0.0, 0.0, 0.0, 0.0, 0.0, 0.0, 0.0, 0.0, 0.0, 0.0, 0.0, 0.0, 0.0, 0.0, 0.0, 0.0, 1.0, 0.0, 0.0, 0.0, 0.0, 0.0, 0.0, 0.0, 0.0, 0.0, 0.0, 0.0, 0.0, 0.0, 0.0, 0.0, 0.0, 0.0, 0.0, 0.0, 0.0, 0.0, 0.0, 0.0, 0.0, 0.0, 0.0, 0.0, 0.0, 0.0, 0.0, 0.0, 0.0, 0.0, 0.0, 0.0, 0.0, 0.0, 0.0, 0.0, 0.0, 0.0, 0.0, 0.0, 0.0, 0.0, 0.0, 0.0, 0.0, 0.0, 0.0, 0.0, 0.0, 0.0, 0.0, 0.0, 0.0, 0.0, 0.0, 0.0, 0.0, 0.0, 0.0, 0.0, 0.0, 0.0, 0.0, 0.0, 0.0, 0.0, 0.0, 0.0]\n",
      "Solution Cout: 995.0\n",
      " \n",
      "File: knapPI_9_50_1000_1_-995.opb.txt\n",
      "Solution X: [0.0, 0.0, 0.0, 0.0, 0.0, 0.0, 0.0, 0.0, 0.0, 0.0, 0.0, 0.0, 0.0, 0.0, 0.0, 0.0, 0.0, 0.0, 0.0, 0.0, 0.0, 0.0, 0.0, 0.0, 0.0, 0.0, 0.0, 0.0, 1.0, 0.0, 0.0, 0.0, 0.0, 0.0, 0.0, 0.0, 0.0, 0.0, 0.0, 0.0, 0.0, 0.0, 0.0, 0.0, 0.0, 0.0, 0.0, 0.0, 0.0, 0.0]\n",
      "Solution Cout: 995.0\n",
      " \n",
      "  3.184042 seconds (65.85 M allocations: 1.349 GiB, 12.00% gc time)\n"
     ]
    }
   ],
   "source": [
    "for (root, dirs, files) in walkdir(\"instancesETU/KNAPnewformat/test_comparision\")\n",
    "    @time begin\n",
    "        for file in files\n",
    "            x, C = solveKnapsackDynamic(joinpath.(root, file))\n",
    "            println(\"File: \", file)\n",
    "            println(\"Solution X: \", x)\n",
    "            println(\"Solution Cout: \", C)\n",
    "            println(\" \")\n",
    "        end\n",
    "    end\n",
    "end"
   ]
  }
 ],
 "metadata": {
  "colab": {
   "provenance": []
  },
  "kernelspec": {
   "display_name": "Julia 1.8.2",
   "language": "julia",
   "name": "julia-1.8"
  },
  "language_info": {
   "file_extension": ".jl",
   "mimetype": "application/julia",
   "name": "julia",
   "version": "1.8.2"
  }
 },
 "nbformat": 4,
 "nbformat_minor": 1
}
